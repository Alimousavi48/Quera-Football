{
 "cells": [
  {
   "attachments": {},
   "cell_type": "markdown",
   "metadata": {},
   "source": [
    "IMPORTING LIBRARIES 📚"
   ]
  },
  {
   "cell_type": "code",
   "execution_count": 84,
   "metadata": {},
   "outputs": [],
   "source": [
    "import re\n",
    "import requests\n",
    "import pandas as pd\n",
    "from bs4 import BeautifulSoup"
   ]
  },
  {
   "attachments": {},
   "cell_type": "markdown",
   "metadata": {},
   "source": [
    "Create DataFrame 👾"
   ]
  },
  {
   "cell_type": "code",
   "execution_count": 85,
   "metadata": {},
   "outputs": [],
   "source": [
    "transfer_table = pd.DataFrame({\"player_id\" : [], \"season\" : [], \"date\" : [], \"left\" : [], \"joined\" : [], \"mv\" : [], \"fee\" : []})\n",
    "transfer_table = transfer_table.astype(str)\n",
    "links = pd.read_csv(\"All_players_links.csv\")"
   ]
  },
  {
   "attachments": {},
   "cell_type": "markdown",
   "metadata": {},
   "source": [
    "Getting Transfer Table 💻"
   ]
  },
  {
   "cell_type": "code",
   "execution_count": 86,
   "metadata": {},
   "outputs": [],
   "source": [
    "def players_transfer_table(link):\n",
    "    headers = {\"User-Agent\": \"Mozilla/5.0 (Windows NT 10.0; Win64; x64) AppleWebKit/537.36 (KHTML, like Gecko) Chrome/58.0.3029.110 Safari/537.36\", \"accept-language\": \"en-US,en;q=0.9\"}        \n",
    "    url = link\n",
    "    page = requests.get(url, headers = headers)\n",
    "    soup = BeautifulSoup(page.content, \"html.parser\")\n",
    "\n",
    "    #Getting Transfer Data\n",
    "    try:\n",
    "        transfer_table = soup.find(\"div\", {\"data-viewport\" : \"Transferhistorie\"})\n",
    "        rows = transfer_table.find_all(\"div\", class_ = \"grid tm-player-transfer-history-grid\")\n",
    "        transfer_table_list = []\n",
    "        for i in rows:\n",
    "            clean_text = i.text.strip()\n",
    "            lines = clean_text.split(\"\\n\")\n",
    "            lines = [line.strip() for line in lines if line.strip()]\n",
    "            if (\"2017\" in lines[1]) or (\"2018\" in lines[1]) or (\"2019\" in lines[1]) or (\"2020\" in lines[1]) or (\"2021\" in lines[1]):\n",
    "                transfer_table_list += [lines]\n",
    "        return transfer_table_list\n",
    "    \n",
    "    except AttributeError:\n",
    "        pass"
   ]
  },
  {
   "attachments": {},
   "cell_type": "markdown",
   "metadata": {},
   "source": [
    "Getting Data 👩‍💻👨‍💻"
   ]
  },
  {
   "cell_type": "code",
   "execution_count": 88,
   "metadata": {},
   "outputs": [],
   "source": [
    "for i in range(len(links)):\n",
    "    res = {}\n",
    "    #Getting Players ID\n",
    "    pattern = r\"/(\\d+)$\"\n",
    "    match = re.search(pattern, links.loc[i, \"0\"])\n",
    "    player_id = match.group(1)\n",
    "    table_list = players_transfer_table(links.loc[i, \"0\"])\n",
    "    for j in table_list:\n",
    "        if len(j) == 6:\n",
    "            res[\"player_id\"] = player_id\n",
    "            res[\"season\"] = j[0]\n",
    "            res[\"date\"] = j[1]\n",
    "            res[\"left\"] = j[2]\n",
    "            res[\"joined\"] = j[3]\n",
    "            res[\"mv\"] = j[4]\n",
    "            res[\"fee\"] = j[5]\n",
    "            transfer_table = transfer_table.append(res, ignore_index = True)\n",
    "\n",
    "transfer_table = transfer_table.drop_duplicates()\n",
    "#pd.DataFrame(transfer_table).to_csv(\"All_players_transfers.csv\", index = False)"
   ]
  }
 ],
 "metadata": {
  "kernelspec": {
   "display_name": "qenv",
   "language": "python",
   "name": "qenv"
  },
  "language_info": {
   "codemirror_mode": {
    "name": "ipython",
    "version": 3
   },
   "file_extension": ".py",
   "mimetype": "text/x-python",
   "name": "python",
   "nbconvert_exporter": "python",
   "pygments_lexer": "ipython3",
   "version": "3.9.6"
  },
  "orig_nbformat": 4
 },
 "nbformat": 4,
 "nbformat_minor": 2
}
