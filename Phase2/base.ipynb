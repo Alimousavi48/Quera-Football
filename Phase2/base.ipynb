{
 "cells": [
  {
   "attachments": {},
   "cell_type": "markdown",
   "metadata": {},
   "source": [
    "IMPORTING LIBRARIES 📚"
   ]
  },
  {
   "cell_type": "code",
   "execution_count": 214,
   "metadata": {},
   "outputs": [],
   "source": [
    "from sqlalchemy import create_engine\n",
    "from sqlalchemy import URL\n",
    "from sqlalchemy import text\n",
    "from urllib.parse import quote_plus\n",
    "from sqlalchemy.types import Integer, VARCHAR, CHAR\n",
    "from sqlalchemy import ForeignKeyConstraint\n",
    "import pandas as pd "
   ]
  },
  {
   "attachments": {},
   "cell_type": "markdown",
   "metadata": {},
   "source": [
    "Connection and CREATE SCHEMA 📝"
   ]
  },
  {
   "cell_type": "code",
   "execution_count": 217,
   "metadata": {},
   "outputs": [],
   "source": [
    "url_object = URL.create(\n",
    "    \"mysql+mysqlconnector\",\n",
    "    username=\"------\",\n",
    "    password=\"-----\",\n",
    "    host=\"localhost\",\n",
    ")"
   ]
  },
  {
   "cell_type": "code",
   "execution_count": 218,
   "metadata": {},
   "outputs": [],
   "source": [
    "engine = create_engine(url_object)"
   ]
  },
  {
   "cell_type": "code",
   "execution_count": 219,
   "metadata": {},
   "outputs": [],
   "source": [
    "with engine.connect() as conn : \n",
    "    conn.execute(text('CREATE Schema football;'))\n",
    "    # conn.execute(text('DROP schema imdb250;'))"
   ]
  },
  {
   "attachments": {},
   "cell_type": "markdown",
   "metadata": {},
   "source": [
    "Read Clubs Data 📗"
   ]
  },
  {
   "cell_type": "code",
   "execution_count": 220,
   "metadata": {},
   "outputs": [],
   "source": [
    "df_club = pd.read_csv('Phase1\\data\\club.csv', index_col=0)\n",
    "df_club_players = pd.read_csv('Phase1\\data\\club_players.csv', index_col=0)\n",
    "df_club_table_league = pd.read_csv('Phase1\\data\\club_table_league.csv', index_col=0)"
   ]
  },
  {
   "cell_type": "code",
   "execution_count": 221,
   "metadata": {},
   "outputs": [
    {
     "data": {
      "text/html": [
       "<div>\n",
       "<style scoped>\n",
       "    .dataframe tbody tr th:only-of-type {\n",
       "        vertical-align: middle;\n",
       "    }\n",
       "\n",
       "    .dataframe tbody tr th {\n",
       "        vertical-align: top;\n",
       "    }\n",
       "\n",
       "    .dataframe thead th {\n",
       "        text-align: right;\n",
       "    }\n",
       "</style>\n",
       "<table border=\"1\" class=\"dataframe\">\n",
       "  <thead>\n",
       "    <tr style=\"text-align: right;\">\n",
       "      <th></th>\n",
       "      <th>League</th>\n",
       "      <th>Season</th>\n",
       "      <th>Club</th>\n",
       "      <th>Rank</th>\n",
       "    </tr>\n",
       "  </thead>\n",
       "  <tbody>\n",
       "    <tr>\n",
       "      <th>0</th>\n",
       "      <td>Premier League</td>\n",
       "      <td>2015</td>\n",
       "      <td>Leicester</td>\n",
       "      <td>1.0</td>\n",
       "    </tr>\n",
       "    <tr>\n",
       "      <th>1</th>\n",
       "      <td>Premier League</td>\n",
       "      <td>2015</td>\n",
       "      <td>Arsenal</td>\n",
       "      <td>2.0</td>\n",
       "    </tr>\n",
       "    <tr>\n",
       "      <th>2</th>\n",
       "      <td>Premier League</td>\n",
       "      <td>2015</td>\n",
       "      <td>Tottenham</td>\n",
       "      <td>3.0</td>\n",
       "    </tr>\n",
       "  </tbody>\n",
       "</table>\n",
       "</div>"
      ],
      "text/plain": [
       "           League  Season       Club  Rank\n",
       "0  Premier League    2015  Leicester   1.0\n",
       "1  Premier League    2015    Arsenal   2.0\n",
       "2  Premier League    2015  Tottenham   3.0"
      ]
     },
     "execution_count": 221,
     "metadata": {},
     "output_type": "execute_result"
    }
   ],
   "source": [
    "df_club_table_league.head(3)"
   ]
  },
  {
   "attachments": {},
   "cell_type": "markdown",
   "metadata": {},
   "source": [
    "Read Players Data 📗"
   ]
  },
  {
   "cell_type": "code",
   "execution_count": 222,
   "metadata": {},
   "outputs": [],
   "source": [
    "df_players_datas = pd.read_csv('Phase1\\data\\players_datas.csv', index_col=0)\n",
    "df_players_stats = pd.read_csv('Phase1\\data\\players_stats.csv', index_col=0)\n",
    "df_players_transfers = pd.read_csv('Phase1\\data\\players_transfers.csv', index_col=0)"
   ]
  },
  {
   "cell_type": "code",
   "execution_count": 223,
   "metadata": {},
   "outputs": [
    {
     "data": {
      "text/html": [
       "<div>\n",
       "<style scoped>\n",
       "    .dataframe tbody tr th:only-of-type {\n",
       "        vertical-align: middle;\n",
       "    }\n",
       "\n",
       "    .dataframe tbody tr th {\n",
       "        vertical-align: top;\n",
       "    }\n",
       "\n",
       "    .dataframe thead th {\n",
       "        text-align: right;\n",
       "    }\n",
       "</style>\n",
       "<table border=\"1\" class=\"dataframe\">\n",
       "  <thead>\n",
       "    <tr style=\"text-align: right;\">\n",
       "      <th></th>\n",
       "      <th>shirt_number</th>\n",
       "      <th>given_name</th>\n",
       "      <th>full_name</th>\n",
       "      <th>date_of_birth</th>\n",
       "      <th>citizenship</th>\n",
       "      <th>place_of_birth</th>\n",
       "      <th>caps</th>\n",
       "      <th>goals</th>\n",
       "      <th>other_positions</th>\n",
       "      <th>outfitter</th>\n",
       "      <th>contract_expires</th>\n",
       "      <th>agent</th>\n",
       "      <th>foot</th>\n",
       "      <th>contract_Joined</th>\n",
       "      <th>height</th>\n",
       "      <th>current_club</th>\n",
       "      <th>date_of_last_contract</th>\n",
       "      <th>players_link</th>\n",
       "    </tr>\n",
       "    <tr>\n",
       "      <th>player_id</th>\n",
       "      <th></th>\n",
       "      <th></th>\n",
       "      <th></th>\n",
       "      <th></th>\n",
       "      <th></th>\n",
       "      <th></th>\n",
       "      <th></th>\n",
       "      <th></th>\n",
       "      <th></th>\n",
       "      <th></th>\n",
       "      <th></th>\n",
       "      <th></th>\n",
       "      <th></th>\n",
       "      <th></th>\n",
       "      <th></th>\n",
       "      <th></th>\n",
       "      <th></th>\n",
       "      <th></th>\n",
       "    </tr>\n",
       "  </thead>\n",
       "  <tbody>\n",
       "    <tr>\n",
       "      <th>465955</th>\n",
       "      <td>#90</td>\n",
       "      <td>Marcin Bulka</td>\n",
       "      <td>Marcin Bułka</td>\n",
       "      <td>Oct 4, 1999</td>\n",
       "      <td>Poland</td>\n",
       "      <td>Płock</td>\n",
       "      <td>1.0</td>\n",
       "      <td>0.0</td>\n",
       "      <td>NaN</td>\n",
       "      <td>NaN</td>\n",
       "      <td>Jun 30, 2026</td>\n",
       "      <td>AIS Football</td>\n",
       "      <td>Current club:</td>\n",
       "      <td>Jul 1, 2022</td>\n",
       "      <td>199.0</td>\n",
       "      <td>OGC Nice</td>\n",
       "      <td>NaN</td>\n",
       "      <td>https://www.transfermarkt.com/marcin-bulka/pro...</td>\n",
       "    </tr>\n",
       "    <tr>\n",
       "      <th>2998</th>\n",
       "      <td>NaN</td>\n",
       "      <td>Robert Huth</td>\n",
       "      <td>NaN</td>\n",
       "      <td>Aug 18, 1984</td>\n",
       "      <td>Germany</td>\n",
       "      <td>Berlin</td>\n",
       "      <td>19.0</td>\n",
       "      <td>2.0</td>\n",
       "      <td>Right-Back</td>\n",
       "      <td>NaN</td>\n",
       "      <td>-</td>\n",
       "      <td>Christian Nilles</td>\n",
       "      <td>NaN</td>\n",
       "      <td>Jul 1, 2018</td>\n",
       "      <td>NaN</td>\n",
       "      <td>Retired</td>\n",
       "      <td>NaN</td>\n",
       "      <td>https://www.transfermarkt.com/robert-huth/prof...</td>\n",
       "    </tr>\n",
       "    <tr>\n",
       "      <th>406633</th>\n",
       "      <td>NaN</td>\n",
       "      <td>Nya Kirby</td>\n",
       "      <td>Nya Jerome Kirby</td>\n",
       "      <td>Jan 31, 2000</td>\n",
       "      <td>England</td>\n",
       "      <td>London</td>\n",
       "      <td>10.0</td>\n",
       "      <td>1.0</td>\n",
       "      <td>Attacking Midfield, Left Midfield</td>\n",
       "      <td>NaN</td>\n",
       "      <td>-</td>\n",
       "      <td>Relatives</td>\n",
       "      <td>right</td>\n",
       "      <td>Jul 1, 2022</td>\n",
       "      <td>174.0</td>\n",
       "      <td>Without Club</td>\n",
       "      <td>NaN</td>\n",
       "      <td>https://www.transfermarkt.com/nya-kirby/profil...</td>\n",
       "    </tr>\n",
       "  </tbody>\n",
       "</table>\n",
       "</div>"
      ],
      "text/plain": [
       "          shirt_number    given_name         full_name date_of_birth   \n",
       "player_id                                                              \n",
       "465955             #90  Marcin Bulka      Marcin Bułka   Oct 4, 1999  \\\n",
       "2998               NaN   Robert Huth               NaN  Aug 18, 1984   \n",
       "406633             NaN     Nya Kirby  Nya Jerome Kirby  Jan 31, 2000   \n",
       "\n",
       "          citizenship place_of_birth  caps  goals   \n",
       "player_id                                           \n",
       "465955         Poland          Płock   1.0    0.0  \\\n",
       "2998          Germany         Berlin  19.0    2.0   \n",
       "406633        England         London  10.0    1.0   \n",
       "\n",
       "                             other_positions outfitter contract_expires   \n",
       "player_id                                                                 \n",
       "465955                                   NaN       NaN     Jun 30, 2026  \\\n",
       "2998                              Right-Back       NaN                -   \n",
       "406633     Attacking Midfield, Left Midfield       NaN                -   \n",
       "\n",
       "                      agent           foot contract_Joined  height   \n",
       "player_id                                                            \n",
       "465955         AIS Football  Current club:     Jul 1, 2022   199.0  \\\n",
       "2998       Christian Nilles            NaN     Jul 1, 2018     NaN   \n",
       "406633            Relatives          right     Jul 1, 2022   174.0   \n",
       "\n",
       "           current_club date_of_last_contract   \n",
       "player_id                                       \n",
       "465955         OGC Nice                   NaN  \\\n",
       "2998            Retired                   NaN   \n",
       "406633     Without Club                   NaN   \n",
       "\n",
       "                                                players_link  \n",
       "player_id                                                     \n",
       "465955     https://www.transfermarkt.com/marcin-bulka/pro...  \n",
       "2998       https://www.transfermarkt.com/robert-huth/prof...  \n",
       "406633     https://www.transfermarkt.com/nya-kirby/profil...  "
      ]
     },
     "execution_count": 223,
     "metadata": {},
     "output_type": "execute_result"
    }
   ],
   "source": [
    "df_players_datas.head(3)"
   ]
  },
  {
   "attachments": {},
   "cell_type": "markdown",
   "metadata": {},
   "source": [
    "CREATE TABLE Country ⚽️"
   ]
  },
  {
   "cell_type": "code",
   "execution_count": 224,
   "metadata": {},
   "outputs": [
    {
     "data": {
      "text/html": [
       "<div>\n",
       "<style scoped>\n",
       "    .dataframe tbody tr th:only-of-type {\n",
       "        vertical-align: middle;\n",
       "    }\n",
       "\n",
       "    .dataframe tbody tr th {\n",
       "        vertical-align: top;\n",
       "    }\n",
       "\n",
       "    .dataframe thead th {\n",
       "        text-align: right;\n",
       "    }\n",
       "</style>\n",
       "<table border=\"1\" class=\"dataframe\">\n",
       "  <thead>\n",
       "    <tr style=\"text-align: right;\">\n",
       "      <th></th>\n",
       "      <th>country_name</th>\n",
       "    </tr>\n",
       "    <tr>\n",
       "      <th>country_id</th>\n",
       "      <th></th>\n",
       "    </tr>\n",
       "  </thead>\n",
       "  <tbody>\n",
       "    <tr>\n",
       "      <th>189</th>\n",
       "      <td>England</td>\n",
       "    </tr>\n",
       "    <tr>\n",
       "      <th>40</th>\n",
       "      <td>Germany</td>\n",
       "    </tr>\n",
       "    <tr>\n",
       "      <th>75</th>\n",
       "      <td>Italy</td>\n",
       "    </tr>\n",
       "    <tr>\n",
       "      <th>50</th>\n",
       "      <td>France</td>\n",
       "    </tr>\n",
       "    <tr>\n",
       "      <th>157</th>\n",
       "      <td>Spain</td>\n",
       "    </tr>\n",
       "  </tbody>\n",
       "</table>\n",
       "</div>"
      ],
      "text/plain": [
       "           country_name\n",
       "country_id             \n",
       "189             England\n",
       "40              Germany\n",
       "75                Italy\n",
       "50               France\n",
       "157               Spain"
      ]
     },
     "execution_count": 224,
     "metadata": {},
     "output_type": "execute_result"
    }
   ],
   "source": [
    "table_country = df_club.loc[:, ['CountryID', 'Country']].drop_duplicates()\n",
    "table_country = table_country.rename(columns={'CountryID': 'country_id', 'Country': 'country_name'}).set_index('country_id')\n",
    "table_country"
   ]
  },
  {
   "cell_type": "code",
   "execution_count": 225,
   "metadata": {},
   "outputs": [],
   "source": [
    "with engine.connect() as conn:\n",
    "    table_country.to_sql(name='country', con=conn, schema='football', if_exists='replace', chunksize=50, method='multi',\n",
    "                          index_label= 'country_id', dtype={'country_id': Integer(), 'country_name': VARCHAR(15)})\n"
   ]
  },
  {
   "attachments": {},
   "cell_type": "markdown",
   "metadata": {},
   "source": [
    "CREATE TABLE League ⚽️"
   ]
  },
  {
   "cell_type": "code",
   "execution_count": 226,
   "metadata": {},
   "outputs": [
    {
     "data": {
      "text/html": [
       "<div>\n",
       "<style scoped>\n",
       "    .dataframe tbody tr th:only-of-type {\n",
       "        vertical-align: middle;\n",
       "    }\n",
       "\n",
       "    .dataframe tbody tr th {\n",
       "        vertical-align: top;\n",
       "    }\n",
       "\n",
       "    .dataframe thead th {\n",
       "        text-align: right;\n",
       "    }\n",
       "</style>\n",
       "<table border=\"1\" class=\"dataframe\">\n",
       "  <thead>\n",
       "    <tr style=\"text-align: right;\">\n",
       "      <th></th>\n",
       "      <th>league_name</th>\n",
       "      <th>country_id</th>\n",
       "    </tr>\n",
       "    <tr>\n",
       "      <th>league_id</th>\n",
       "      <th></th>\n",
       "      <th></th>\n",
       "    </tr>\n",
       "  </thead>\n",
       "  <tbody>\n",
       "    <tr>\n",
       "      <th>1</th>\n",
       "      <td>Premier League</td>\n",
       "      <td>189</td>\n",
       "    </tr>\n",
       "    <tr>\n",
       "      <th>2</th>\n",
       "      <td>Bundesliga</td>\n",
       "      <td>40</td>\n",
       "    </tr>\n",
       "    <tr>\n",
       "      <th>3</th>\n",
       "      <td>Serie A</td>\n",
       "      <td>75</td>\n",
       "    </tr>\n",
       "    <tr>\n",
       "      <th>4</th>\n",
       "      <td>Ligue 1</td>\n",
       "      <td>50</td>\n",
       "    </tr>\n",
       "    <tr>\n",
       "      <th>5</th>\n",
       "      <td>LaLiga</td>\n",
       "      <td>157</td>\n",
       "    </tr>\n",
       "  </tbody>\n",
       "</table>\n",
       "</div>"
      ],
      "text/plain": [
       "              league_name  country_id\n",
       "league_id                            \n",
       "1          Premier League         189\n",
       "2              Bundesliga          40\n",
       "3                 Serie A          75\n",
       "4                 Ligue 1          50\n",
       "5                  LaLiga         157"
      ]
     },
     "execution_count": 226,
     "metadata": {},
     "output_type": "execute_result"
    }
   ],
   "source": [
    "table_league = df_club.loc[:, ['League', 'CountryID']].drop_duplicates().assign(league_id=range(1, 6)).set_index('league_id')\n",
    "table_league = table_league.rename(columns={'League': 'league_name', 'CountryID': 'country_id'})\n",
    "table_league"
   ]
  },
  {
   "cell_type": "code",
   "execution_count": 227,
   "metadata": {},
   "outputs": [],
   "source": [
    "query_league = text(\"\"\"\n",
    "CREATE TABLE league (\n",
    "league_id INT NOT NULL AUTO_INCREMENT,\n",
    "league_name VARCHAR(30) NOT NULL,\n",
    "country_id INT NOT NULL,\n",
    "PRIMARY KEY (league_id),\n",
    "FOREIGN KEY (country_id) REFERENCES country(country_id)\n",
    ");\"\"\")"
   ]
  },
  {
   "cell_type": "code",
   "execution_count": 228,
   "metadata": {},
   "outputs": [],
   "source": [
    "with engine.connect() as conn:\n",
    "    conn.execute(text('USE football;'))\n",
    "    conn.execute(query_league)"
   ]
  },
  {
   "cell_type": "code",
   "execution_count": 229,
   "metadata": {},
   "outputs": [],
   "source": [
    "with engine.connect() as conn:\n",
    "    table_league.to_sql(name='league', con=conn, schema='football', if_exists='append', chunksize=50, method='multi')"
   ]
  },
  {
   "attachments": {},
   "cell_type": "markdown",
   "metadata": {},
   "source": [
    "CREATE TABLE Club ⚽️"
   ]
  },
  {
   "cell_type": "code",
   "execution_count": 230,
   "metadata": {},
   "outputs": [
    {
     "data": {
      "text/html": [
       "<div>\n",
       "<style scoped>\n",
       "    .dataframe tbody tr th:only-of-type {\n",
       "        vertical-align: middle;\n",
       "    }\n",
       "\n",
       "    .dataframe tbody tr th {\n",
       "        vertical-align: top;\n",
       "    }\n",
       "\n",
       "    .dataframe thead th {\n",
       "        text-align: right;\n",
       "    }\n",
       "</style>\n",
       "<table border=\"1\" class=\"dataframe\">\n",
       "  <thead>\n",
       "    <tr style=\"text-align: right;\">\n",
       "      <th></th>\n",
       "      <th>club_name</th>\n",
       "      <th>stadium_name</th>\n",
       "      <th>stadium_capacity</th>\n",
       "    </tr>\n",
       "    <tr>\n",
       "      <th>club_id</th>\n",
       "      <th></th>\n",
       "      <th></th>\n",
       "      <th></th>\n",
       "    </tr>\n",
       "  </thead>\n",
       "  <tbody>\n",
       "    <tr>\n",
       "      <th>631</th>\n",
       "      <td>Chelsea FC</td>\n",
       "      <td>Stamford Bridge</td>\n",
       "      <td>40.853 Seats</td>\n",
       "    </tr>\n",
       "    <tr>\n",
       "      <th>281</th>\n",
       "      <td>Manchester City</td>\n",
       "      <td>Etihad Stadium</td>\n",
       "      <td>55.017 Seats</td>\n",
       "    </tr>\n",
       "    <tr>\n",
       "      <th>11</th>\n",
       "      <td>Arsenal FC</td>\n",
       "      <td>Emirates Stadium</td>\n",
       "      <td>60.704 Seats</td>\n",
       "    </tr>\n",
       "  </tbody>\n",
       "</table>\n",
       "</div>"
      ],
      "text/plain": [
       "               club_name      stadium_name stadium_capacity\n",
       "club_id                                                    \n",
       "631           Chelsea FC   Stamford Bridge     40.853 Seats\n",
       "281      Manchester City    Etihad Stadium     55.017 Seats\n",
       "11            Arsenal FC  Emirates Stadium     60.704 Seats"
      ]
     },
     "execution_count": 230,
     "metadata": {},
     "output_type": "execute_result"
    }
   ],
   "source": [
    "table_club = df_club.loc[:, ['ClubID', 'Club', 'Stadium', 'StadiumCap']].drop_duplicates()\n",
    "table_club = table_club.rename(columns={'ClubID': 'club_id', 'Club': 'club_name', 'Stadium': 'stadium_name', 'StadiumCap': 'stadium_capacity'}).set_index('club_id')\n",
    "table_club.head(3)"
   ]
  },
  {
   "cell_type": "code",
   "execution_count": 231,
   "metadata": {},
   "outputs": [],
   "source": [
    "with engine.connect() as conn:\n",
    "    table_club.to_sql(name='club', con=conn, schema='football', if_exists='replace', chunksize=50, method='multi',\n",
    "                          index_label= 'club_id', dtype={'club_id': Integer(), 'club_name': VARCHAR(30), \n",
    "                                                         'stadium_name': VARCHAR(30), 'stadium_capacity': VARCHAR(20)})\n"
   ]
  },
  {
   "attachments": {},
   "cell_type": "markdown",
   "metadata": {},
   "source": [
    "CREATE TABLE Season ⚽️"
   ]
  },
  {
   "cell_type": "code",
   "execution_count": 232,
   "metadata": {},
   "outputs": [
    {
     "data": {
      "text/html": [
       "<div>\n",
       "<style scoped>\n",
       "    .dataframe tbody tr th:only-of-type {\n",
       "        vertical-align: middle;\n",
       "    }\n",
       "\n",
       "    .dataframe tbody tr th {\n",
       "        vertical-align: top;\n",
       "    }\n",
       "\n",
       "    .dataframe thead th {\n",
       "        text-align: right;\n",
       "    }\n",
       "</style>\n",
       "<table border=\"1\" class=\"dataframe\">\n",
       "  <thead>\n",
       "    <tr style=\"text-align: right;\">\n",
       "      <th></th>\n",
       "      <th>year</th>\n",
       "    </tr>\n",
       "    <tr>\n",
       "      <th>season_id</th>\n",
       "      <th></th>\n",
       "    </tr>\n",
       "  </thead>\n",
       "  <tbody>\n",
       "    <tr>\n",
       "      <th>1</th>\n",
       "      <td>2015</td>\n",
       "    </tr>\n",
       "    <tr>\n",
       "      <th>2</th>\n",
       "      <td>2016</td>\n",
       "    </tr>\n",
       "    <tr>\n",
       "      <th>3</th>\n",
       "      <td>2017</td>\n",
       "    </tr>\n",
       "    <tr>\n",
       "      <th>4</th>\n",
       "      <td>2018</td>\n",
       "    </tr>\n",
       "    <tr>\n",
       "      <th>5</th>\n",
       "      <td>2019</td>\n",
       "    </tr>\n",
       "    <tr>\n",
       "      <th>6</th>\n",
       "      <td>2020</td>\n",
       "    </tr>\n",
       "    <tr>\n",
       "      <th>7</th>\n",
       "      <td>2021</td>\n",
       "    </tr>\n",
       "  </tbody>\n",
       "</table>\n",
       "</div>"
      ],
      "text/plain": [
       "           year\n",
       "season_id      \n",
       "1          2015\n",
       "2          2016\n",
       "3          2017\n",
       "4          2018\n",
       "5          2019\n",
       "6          2020\n",
       "7          2021"
      ]
     },
     "execution_count": 232,
     "metadata": {},
     "output_type": "execute_result"
    }
   ],
   "source": [
    "table_season = df_club.loc[:, ['Season']].drop_duplicates()\n",
    "table_season = table_season.assign(season_id=range(1, len(table_season) + 1)).set_index('season_id').rename(columns={'Season': 'year'})\n",
    "table_season"
   ]
  },
  {
   "cell_type": "code",
   "execution_count": 233,
   "metadata": {},
   "outputs": [],
   "source": [
    "with engine.connect() as conn:\n",
    "    table_season.to_sql(name='season', con=conn, schema='football', if_exists='replace', chunksize=50, method='multi',\n",
    "                          index_label= 'season_id', dtype={'season_id': Integer(), 'year': Integer()})\n"
   ]
  },
  {
   "attachments": {},
   "cell_type": "markdown",
   "metadata": {},
   "source": [
    "CREATE TABLE Season_info ⚽️"
   ]
  },
  {
   "cell_type": "code",
   "execution_count": 234,
   "metadata": {},
   "outputs": [],
   "source": [
    "query_season_info = text(\"\"\"\n",
    "CREATE TABLE season_info (\n",
    "season_info_id INT NOT NULL AUTO_INCREMENT,\n",
    "season_id INT NOT NULL,\n",
    "league_id INT NOT NULL,\n",
    "club_id INT NOT NULL,\n",
    "club_rank INT,\n",
    "squad INT,\n",
    "avg_age FLOAT,\n",
    "foreign_players INT,\n",
    "avg_marketValue VARCHAR(12),\n",
    "total_marketValue VARCHAR(12),\n",
    "income VARCHAR(12),\n",
    "overbalance VARCHAR(12),\n",
    "expenditure VARCHAR(12),\n",
    "PRIMARY KEY (season_info_id),\n",
    "FOREIGN KEY (season_id) REFERENCES season(season_id),\n",
    "FOREIGN KEY (league_id) REFERENCES league(league_id),\n",
    "FOREIGN KEY (club_id) REFERENCES club(club_id)\n",
    ");\"\"\")"
   ]
  },
  {
   "cell_type": "code",
   "execution_count": 235,
   "metadata": {},
   "outputs": [],
   "source": [
    "# with engine.connect() as conn:\n",
    "#     conn.execute(text('USE football;'))\n",
    "#     conn.execute(query_season_info)"
   ]
  },
  {
   "cell_type": "code",
   "execution_count": null,
   "metadata": {},
   "outputs": [],
   "source": [
    "# league_dict = dict(zip(table_league['league_name'], table_league.index))\n",
    "# league_dict"
   ]
  },
  {
   "cell_type": "code",
   "execution_count": null,
   "metadata": {},
   "outputs": [],
   "source": [
    "# table_season_info.head(1)"
   ]
  },
  {
   "cell_type": "code",
   "execution_count": null,
   "metadata": {},
   "outputs": [],
   "source": [
    "# table_season_info = df_club.loc[:, ['Season', 'League', 'Club', 'ClubID', 'Squad', \n",
    "#                                     'avgAge', 'Foreigners', 'avgMarketValue', 'totalMarketValue', \n",
    "#                                     'Club_income', 'Club_expenditure', 'Club_OverallBalance']]\n",
    "                                    \n",
    "# table_season_info = table_season_info.merge(df_club_table_league, on=['League', 'Season', 'Club'], how='left')\n",
    "# table_season_info['League'] = table_season_info['League'].map(league_dict)\n",
    "# table_season_info"
   ]
  },
  {
   "cell_type": "code",
   "execution_count": 236,
   "metadata": {},
   "outputs": [],
   "source": [
    "# with engine.connect() as conn:\n",
    "#     table_season.to_sql(name='season', con=conn, schema='football', if_exists='append', chunksize=50, method='multi')"
   ]
  },
  {
   "attachments": {},
   "cell_type": "markdown",
   "metadata": {},
   "source": [
    "CREATE TABLE Coach ⚽️"
   ]
  },
  {
   "cell_type": "code",
   "execution_count": null,
   "metadata": {},
   "outputs": [],
   "source": [
    "# mohammad"
   ]
  },
  {
   "attachments": {},
   "cell_type": "markdown",
   "metadata": {},
   "source": [
    "CREATE TABLE Coach_Season_info ⚽️"
   ]
  },
  {
   "cell_type": "code",
   "execution_count": null,
   "metadata": {},
   "outputs": [],
   "source": [
    "# mohammad"
   ]
  },
  {
   "attachments": {},
   "cell_type": "markdown",
   "metadata": {},
   "source": [
    "CREATE TABLE Victories ⚽️"
   ]
  },
  {
   "cell_type": "code",
   "execution_count": null,
   "metadata": {},
   "outputs": [],
   "source": [
    "# mohammad"
   ]
  },
  {
   "attachments": {},
   "cell_type": "markdown",
   "metadata": {},
   "source": [
    "CREATE TABLE Victories_Season_info ⚽️"
   ]
  },
  {
   "cell_type": "code",
   "execution_count": null,
   "metadata": {},
   "outputs": [],
   "source": [
    "# mohammad"
   ]
  },
  {
   "attachments": {},
   "cell_type": "markdown",
   "metadata": {},
   "source": [
    "CREATE TABLE Positions ⚽️"
   ]
  },
  {
   "cell_type": "code",
   "execution_count": null,
   "metadata": {},
   "outputs": [],
   "source": [
    "# Ali"
   ]
  },
  {
   "attachments": {},
   "cell_type": "markdown",
   "metadata": {},
   "source": [
    "CREATE TABLE Players ⚽️"
   ]
  },
  {
   "cell_type": "code",
   "execution_count": null,
   "metadata": {},
   "outputs": [],
   "source": [
    "# Milad"
   ]
  },
  {
   "attachments": {},
   "cell_type": "markdown",
   "metadata": {},
   "source": [
    "CREATE TABLE Players_Season_info ⚽️"
   ]
  },
  {
   "cell_type": "code",
   "execution_count": null,
   "metadata": {},
   "outputs": [],
   "source": [
    "# ALi"
   ]
  },
  {
   "attachments": {},
   "cell_type": "markdown",
   "metadata": {},
   "source": [
    "CREATE TABLE Outfitters ⚽️"
   ]
  },
  {
   "cell_type": "code",
   "execution_count": null,
   "metadata": {},
   "outputs": [],
   "source": [
    "# milad"
   ]
  },
  {
   "attachments": {},
   "cell_type": "markdown",
   "metadata": {},
   "source": [
    "CREATE TABLE Player_info ⚽️"
   ]
  },
  {
   "cell_type": "code",
   "execution_count": null,
   "metadata": {},
   "outputs": [],
   "source": [
    "# zahra"
   ]
  },
  {
   "attachments": {},
   "cell_type": "markdown",
   "metadata": {},
   "source": [
    "CREATE TABLE Outfitter_Player_info ⚽️"
   ]
  },
  {
   "cell_type": "code",
   "execution_count": null,
   "metadata": {},
   "outputs": [],
   "source": [
    "# Zhara"
   ]
  },
  {
   "attachments": {},
   "cell_type": "markdown",
   "metadata": {},
   "source": [
    "CREATE TABLE Stats ⚽️"
   ]
  },
  {
   "cell_type": "code",
   "execution_count": null,
   "metadata": {},
   "outputs": [],
   "source": [
    "# Zahra"
   ]
  },
  {
   "attachments": {},
   "cell_type": "markdown",
   "metadata": {},
   "source": [
    "CREATE TABLE Transfer ⚽️"
   ]
  },
  {
   "cell_type": "code",
   "execution_count": null,
   "metadata": {},
   "outputs": [],
   "source": [
    "# milad"
   ]
  }
 ],
 "metadata": {
  "kernelspec": {
   "display_name": "Python 3",
   "language": "python",
   "name": "python3"
  },
  "language_info": {
   "codemirror_mode": {
    "name": "ipython",
    "version": 3
   },
   "file_extension": ".py",
   "mimetype": "text/x-python",
   "name": "python",
   "nbconvert_exporter": "python",
   "pygments_lexer": "ipython3",
   "version": "3.11.3"
  },
  "orig_nbformat": 4
 },
 "nbformat": 4,
 "nbformat_minor": 2
}
