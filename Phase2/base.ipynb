{
 "cells": [
  {
   "attachments": {},
   "cell_type": "markdown",
   "metadata": {},
   "source": [
    "IMPORT LIBRARIES 📚"
   ]
  },
  {
   "cell_type": "code",
   "execution_count": 1,
   "metadata": {},
   "outputs": [],
   "source": [
    "from sqlalchemy import create_engine\n",
    "from sqlalchemy import URL\n",
    "from sqlalchemy import text\n",
    "from urllib.parse import quote_plus\n",
    "from sqlalchemy.types import Integer, VARCHAR, CHAR\n",
    "from sqlalchemy import ForeignKeyConstraint\n",
    "import pandas as pd "
   ]
  },
  {
   "attachments": {},
   "cell_type": "markdown",
   "metadata": {},
   "source": [
    "Connection and CREATE SCHEMA 📝"
   ]
  },
  {
   "cell_type": "code",
   "execution_count": 2,
   "metadata": {},
   "outputs": [],
   "source": [
    "url_object = URL.create(\n",
    "    \"mysql+mysqlconnector\",\n",
    "    username=\"root\",\n",
    "    password=\"farzansql\",\n",
    "    host=\"localhost\",\n",
    ")"
   ]
  },
  {
   "cell_type": "code",
   "execution_count": 3,
   "metadata": {},
   "outputs": [],
   "source": [
    "engine = create_engine(url_object)"
   ]
  },
  {
   "cell_type": "code",
   "execution_count": 5,
   "metadata": {},
   "outputs": [],
   "source": [
    "with engine.connect() as conn : \n",
    "    conn.execute(text('CREATE Schema football;'))\n",
    "    # conn.execute(text('DROP Schema football;'))"
   ]
  },
  {
   "attachments": {},
   "cell_type": "markdown",
   "metadata": {},
   "source": [
    "Read Clubs Data 📗"
   ]
  },
  {
   "cell_type": "code",
   "execution_count": 6,
   "metadata": {},
   "outputs": [
    {
     "data": {
      "text/plain": [
       "'d:\\\\University\\\\Quera-BootCamp\\\\Quera-Football\\\\Phase2'"
      ]
     },
     "execution_count": 6,
     "metadata": {},
     "output_type": "execute_result"
    }
   ],
   "source": [
    "%pwd"
   ]
  },
  {
   "cell_type": "code",
   "execution_count": 34,
   "metadata": {},
   "outputs": [],
   "source": [
    "df_club = pd.read_csv('Phase1\\data\\club.csv', index_col=0)\n",
    "df_club_players = pd.read_csv('Phase1\\data\\club_players.csv', index_col=0)\n",
    "df_league_goals = pd.read_csv('Phase1\\data\\league_goals.csv', index_col=0)"
   ]
  },
  {
   "attachments": {},
   "cell_type": "markdown",
   "metadata": {},
   "source": [
    "Read Players Data 📗"
   ]
  },
  {
   "cell_type": "code",
   "execution_count": 49,
   "metadata": {},
   "outputs": [],
   "source": [
    "df_players_data = pd.read_csv('Phase1\\data\\players_data.csv', index_col=0)\n",
    "df_players_stats = pd.read_csv('Phase1\\data\\players_stats.csv', index_col=0)\n",
    "df_players_transfers = pd.read_csv('Phase1\\data\\players_transfers.csv', index_col=0)"
   ]
  },
  {
   "attachments": {},
   "cell_type": "markdown",
   "metadata": {},
   "source": [
    "CREATE TABLE Country ⚽️"
   ]
  },
  {
   "cell_type": "code",
   "execution_count": 10,
   "metadata": {},
   "outputs": [
    {
     "data": {
      "text/html": [
       "<div>\n",
       "<style scoped>\n",
       "    .dataframe tbody tr th:only-of-type {\n",
       "        vertical-align: middle;\n",
       "    }\n",
       "\n",
       "    .dataframe tbody tr th {\n",
       "        vertical-align: top;\n",
       "    }\n",
       "\n",
       "    .dataframe thead th {\n",
       "        text-align: right;\n",
       "    }\n",
       "</style>\n",
       "<table border=\"1\" class=\"dataframe\">\n",
       "  <thead>\n",
       "    <tr style=\"text-align: right;\">\n",
       "      <th></th>\n",
       "      <th>country_name</th>\n",
       "    </tr>\n",
       "    <tr>\n",
       "      <th>country_id</th>\n",
       "      <th></th>\n",
       "    </tr>\n",
       "  </thead>\n",
       "  <tbody>\n",
       "    <tr>\n",
       "      <th>189</th>\n",
       "      <td>England</td>\n",
       "    </tr>\n",
       "    <tr>\n",
       "      <th>40</th>\n",
       "      <td>Germany</td>\n",
       "    </tr>\n",
       "    <tr>\n",
       "      <th>75</th>\n",
       "      <td>Italy</td>\n",
       "    </tr>\n",
       "    <tr>\n",
       "      <th>50</th>\n",
       "      <td>France</td>\n",
       "    </tr>\n",
       "    <tr>\n",
       "      <th>157</th>\n",
       "      <td>Spain</td>\n",
       "    </tr>\n",
       "  </tbody>\n",
       "</table>\n",
       "</div>"
      ],
      "text/plain": [
       "           country_name\n",
       "country_id             \n",
       "189             England\n",
       "40              Germany\n",
       "75                Italy\n",
       "50               France\n",
       "157               Spain"
      ]
     },
     "execution_count": 10,
     "metadata": {},
     "output_type": "execute_result"
    }
   ],
   "source": [
    "table_country = df_club.loc[:, ['CountryID', 'Country']].drop_duplicates()\n",
    "table_country = table_country.rename(columns={'CountryID': 'country_id', 'Country': 'country_name'}).set_index('country_id')\n",
    "table_country"
   ]
  },
  {
   "cell_type": "code",
   "execution_count": 11,
   "metadata": {},
   "outputs": [],
   "source": [
    "with engine.connect() as conn:\n",
    "    table_country.to_sql(name='country', con=conn, schema='football', if_exists='replace', chunksize=50, method='multi',\n",
    "                          index_label= 'country_id', dtype={'country_id': Integer(), 'country_name': VARCHAR(15)})\n"
   ]
  },
  {
   "attachments": {},
   "cell_type": "markdown",
   "metadata": {},
   "source": [
    "CREATE TABLE League ⚽️"
   ]
  },
  {
   "cell_type": "code",
   "execution_count": 12,
   "metadata": {},
   "outputs": [
    {
     "data": {
      "text/html": [
       "<div>\n",
       "<style scoped>\n",
       "    .dataframe tbody tr th:only-of-type {\n",
       "        vertical-align: middle;\n",
       "    }\n",
       "\n",
       "    .dataframe tbody tr th {\n",
       "        vertical-align: top;\n",
       "    }\n",
       "\n",
       "    .dataframe thead th {\n",
       "        text-align: right;\n",
       "    }\n",
       "</style>\n",
       "<table border=\"1\" class=\"dataframe\">\n",
       "  <thead>\n",
       "    <tr style=\"text-align: right;\">\n",
       "      <th></th>\n",
       "      <th>league_name</th>\n",
       "      <th>country_id</th>\n",
       "    </tr>\n",
       "    <tr>\n",
       "      <th>league_id</th>\n",
       "      <th></th>\n",
       "      <th></th>\n",
       "    </tr>\n",
       "  </thead>\n",
       "  <tbody>\n",
       "    <tr>\n",
       "      <th>1</th>\n",
       "      <td>Premier League</td>\n",
       "      <td>189</td>\n",
       "    </tr>\n",
       "    <tr>\n",
       "      <th>2</th>\n",
       "      <td>Bundesliga</td>\n",
       "      <td>40</td>\n",
       "    </tr>\n",
       "    <tr>\n",
       "      <th>3</th>\n",
       "      <td>Serie A</td>\n",
       "      <td>75</td>\n",
       "    </tr>\n",
       "    <tr>\n",
       "      <th>4</th>\n",
       "      <td>Ligue 1</td>\n",
       "      <td>50</td>\n",
       "    </tr>\n",
       "    <tr>\n",
       "      <th>5</th>\n",
       "      <td>LaLiga</td>\n",
       "      <td>157</td>\n",
       "    </tr>\n",
       "  </tbody>\n",
       "</table>\n",
       "</div>"
      ],
      "text/plain": [
       "              league_name  country_id\n",
       "league_id                            \n",
       "1          Premier League         189\n",
       "2              Bundesliga          40\n",
       "3                 Serie A          75\n",
       "4                 Ligue 1          50\n",
       "5                  LaLiga         157"
      ]
     },
     "execution_count": 12,
     "metadata": {},
     "output_type": "execute_result"
    }
   ],
   "source": [
    "table_league = df_club.loc[:, ['League', 'CountryID']].drop_duplicates().assign(league_id=range(1, 6)).set_index('league_id')\n",
    "table_league = table_league.rename(columns={'League': 'league_name', 'CountryID': 'country_id'})\n",
    "table_league"
   ]
  },
  {
   "cell_type": "code",
   "execution_count": 13,
   "metadata": {},
   "outputs": [],
   "source": [
    "query_league = text(\"\"\"\n",
    "CREATE TABLE league (\n",
    "league_id INT NOT NULL AUTO_INCREMENT,\n",
    "league_name VARCHAR(30) NOT NULL,\n",
    "country_id INT NOT NULL,\n",
    "PRIMARY KEY (league_id),\n",
    "FOREIGN KEY (country_id) REFERENCES country(country_id)\n",
    ");\"\"\")"
   ]
  },
  {
   "cell_type": "code",
   "execution_count": 14,
   "metadata": {},
   "outputs": [],
   "source": [
    "with engine.connect() as conn:\n",
    "    conn.execute(text('USE football;'))\n",
    "    conn.execute(query_league)"
   ]
  },
  {
   "cell_type": "code",
   "execution_count": 15,
   "metadata": {},
   "outputs": [],
   "source": [
    "with engine.connect() as conn:\n",
    "    table_league.to_sql(name='league', con=conn, schema='football', if_exists='append', chunksize=50, method='multi')"
   ]
  },
  {
   "attachments": {},
   "cell_type": "markdown",
   "metadata": {},
   "source": [
    "CREATE TABLE Club ⚽️"
   ]
  },
  {
   "cell_type": "code",
   "execution_count": 16,
   "metadata": {},
   "outputs": [
    {
     "data": {
      "text/html": [
       "<div>\n",
       "<style scoped>\n",
       "    .dataframe tbody tr th:only-of-type {\n",
       "        vertical-align: middle;\n",
       "    }\n",
       "\n",
       "    .dataframe tbody tr th {\n",
       "        vertical-align: top;\n",
       "    }\n",
       "\n",
       "    .dataframe thead th {\n",
       "        text-align: right;\n",
       "    }\n",
       "</style>\n",
       "<table border=\"1\" class=\"dataframe\">\n",
       "  <thead>\n",
       "    <tr style=\"text-align: right;\">\n",
       "      <th></th>\n",
       "      <th>club_name</th>\n",
       "      <th>stadium_name</th>\n",
       "      <th>stadium_capacity</th>\n",
       "    </tr>\n",
       "    <tr>\n",
       "      <th>club_id</th>\n",
       "      <th></th>\n",
       "      <th></th>\n",
       "      <th></th>\n",
       "    </tr>\n",
       "  </thead>\n",
       "  <tbody>\n",
       "    <tr>\n",
       "      <th>631</th>\n",
       "      <td>Chelsea FC</td>\n",
       "      <td>Stamford Bridge</td>\n",
       "      <td>40.853 Seats</td>\n",
       "    </tr>\n",
       "    <tr>\n",
       "      <th>281</th>\n",
       "      <td>Manchester City</td>\n",
       "      <td>Etihad Stadium</td>\n",
       "      <td>55.017 Seats</td>\n",
       "    </tr>\n",
       "    <tr>\n",
       "      <th>11</th>\n",
       "      <td>Arsenal FC</td>\n",
       "      <td>Emirates Stadium</td>\n",
       "      <td>60.704 Seats</td>\n",
       "    </tr>\n",
       "  </tbody>\n",
       "</table>\n",
       "</div>"
      ],
      "text/plain": [
       "               club_name      stadium_name stadium_capacity\n",
       "club_id                                                    \n",
       "631           Chelsea FC   Stamford Bridge     40.853 Seats\n",
       "281      Manchester City    Etihad Stadium     55.017 Seats\n",
       "11            Arsenal FC  Emirates Stadium     60.704 Seats"
      ]
     },
     "execution_count": 16,
     "metadata": {},
     "output_type": "execute_result"
    }
   ],
   "source": [
    "table_club = df_club.loc[:, ['ClubID', 'Club', 'Stadium', 'StadiumCap']].drop_duplicates()\n",
    "table_club = table_club.rename(columns={'ClubID': 'club_id', 'Club': 'club_name', 'Stadium': 'stadium_name', 'StadiumCap': 'stadium_capacity'}).set_index('club_id')\n",
    "table_club.head(3)"
   ]
  },
  {
   "cell_type": "code",
   "execution_count": 17,
   "metadata": {},
   "outputs": [],
   "source": [
    "with engine.connect() as conn:\n",
    "    table_club.to_sql(name='club', con=conn, schema='football', if_exists='replace', chunksize=50, method='multi',\n",
    "                          index_label= 'club_id', dtype={'club_id': Integer(), 'club_name': VARCHAR(30), \n",
    "                                                         'stadium_name': VARCHAR(30), 'stadium_capacity': VARCHAR(20)})\n"
   ]
  },
  {
   "attachments": {},
   "cell_type": "markdown",
   "metadata": {},
   "source": [
    "CREATE TABLE Season ⚽️"
   ]
  },
  {
   "cell_type": "code",
   "execution_count": 18,
   "metadata": {},
   "outputs": [
    {
     "data": {
      "text/html": [
       "<div>\n",
       "<style scoped>\n",
       "    .dataframe tbody tr th:only-of-type {\n",
       "        vertical-align: middle;\n",
       "    }\n",
       "\n",
       "    .dataframe tbody tr th {\n",
       "        vertical-align: top;\n",
       "    }\n",
       "\n",
       "    .dataframe thead th {\n",
       "        text-align: right;\n",
       "    }\n",
       "</style>\n",
       "<table border=\"1\" class=\"dataframe\">\n",
       "  <thead>\n",
       "    <tr style=\"text-align: right;\">\n",
       "      <th></th>\n",
       "      <th>year</th>\n",
       "    </tr>\n",
       "    <tr>\n",
       "      <th>season_id</th>\n",
       "      <th></th>\n",
       "    </tr>\n",
       "  </thead>\n",
       "  <tbody>\n",
       "    <tr>\n",
       "      <th>1</th>\n",
       "      <td>2015</td>\n",
       "    </tr>\n",
       "    <tr>\n",
       "      <th>2</th>\n",
       "      <td>2016</td>\n",
       "    </tr>\n",
       "    <tr>\n",
       "      <th>3</th>\n",
       "      <td>2017</td>\n",
       "    </tr>\n",
       "    <tr>\n",
       "      <th>4</th>\n",
       "      <td>2018</td>\n",
       "    </tr>\n",
       "    <tr>\n",
       "      <th>5</th>\n",
       "      <td>2019</td>\n",
       "    </tr>\n",
       "    <tr>\n",
       "      <th>6</th>\n",
       "      <td>2020</td>\n",
       "    </tr>\n",
       "    <tr>\n",
       "      <th>7</th>\n",
       "      <td>2021</td>\n",
       "    </tr>\n",
       "  </tbody>\n",
       "</table>\n",
       "</div>"
      ],
      "text/plain": [
       "           year\n",
       "season_id      \n",
       "1          2015\n",
       "2          2016\n",
       "3          2017\n",
       "4          2018\n",
       "5          2019\n",
       "6          2020\n",
       "7          2021"
      ]
     },
     "execution_count": 18,
     "metadata": {},
     "output_type": "execute_result"
    }
   ],
   "source": [
    "table_season = df_club.loc[:, ['Season']].drop_duplicates()\n",
    "table_season = table_season.assign(season_id=range(1, len(table_season) + 1)).set_index('season_id').rename(columns={'Season': 'year'})\n",
    "table_season"
   ]
  },
  {
   "cell_type": "code",
   "execution_count": 19,
   "metadata": {},
   "outputs": [],
   "source": [
    "with engine.connect() as conn:\n",
    "    table_season.to_sql(name='season', con=conn, schema='football', if_exists='replace', chunksize=50, method='multi',\n",
    "                          index_label= 'season_id', dtype={'season_id': Integer(), 'year': Integer()})\n"
   ]
  },
  {
   "attachments": {},
   "cell_type": "markdown",
   "metadata": {},
   "source": [
    "CREATE TABLE Season_info ⚽️"
   ]
  },
  {
   "cell_type": "code",
   "execution_count": 22,
   "metadata": {},
   "outputs": [
    {
     "data": {
      "text/plain": [
       "{'Premier League': 1, 'Bundesliga': 2, 'Serie A': 3, 'Ligue 1': 4, 'LaLiga': 5}"
      ]
     },
     "execution_count": 22,
     "metadata": {},
     "output_type": "execute_result"
    }
   ],
   "source": [
    "league_dict = dict(zip(table_league['league_name'], table_league.index))\n",
    "league_dict"
   ]
  },
  {
   "cell_type": "code",
   "execution_count": 23,
   "metadata": {},
   "outputs": [
    {
     "data": {
      "text/plain": [
       "{2015: 1, 2016: 2, 2017: 3, 2018: 4, 2019: 5, 2020: 6, 2021: 7}"
      ]
     },
     "execution_count": 23,
     "metadata": {},
     "output_type": "execute_result"
    }
   ],
   "source": [
    "season_dict = dict(zip(table_season['year'], table_season.index))\n",
    "season_dict"
   ]
  },
  {
   "cell_type": "code",
   "execution_count": 24,
   "metadata": {},
   "outputs": [
    {
     "data": {
      "text/html": [
       "<div>\n",
       "<style scoped>\n",
       "    .dataframe tbody tr th:only-of-type {\n",
       "        vertical-align: middle;\n",
       "    }\n",
       "\n",
       "    .dataframe tbody tr th {\n",
       "        vertical-align: top;\n",
       "    }\n",
       "\n",
       "    .dataframe thead th {\n",
       "        text-align: right;\n",
       "    }\n",
       "</style>\n",
       "<table border=\"1\" class=\"dataframe\">\n",
       "  <thead>\n",
       "    <tr style=\"text-align: right;\">\n",
       "      <th></th>\n",
       "      <th>season_id</th>\n",
       "      <th>league_id</th>\n",
       "      <th>club_id</th>\n",
       "      <th>club_rank</th>\n",
       "      <th>squad</th>\n",
       "      <th>avg_age</th>\n",
       "      <th>foreign_players</th>\n",
       "      <th>avg_marketValue</th>\n",
       "      <th>total_marketValue</th>\n",
       "      <th>income</th>\n",
       "      <th>expenditure</th>\n",
       "      <th>overbalance</th>\n",
       "    </tr>\n",
       "    <tr>\n",
       "      <th>season_info_id</th>\n",
       "      <th></th>\n",
       "      <th></th>\n",
       "      <th></th>\n",
       "      <th></th>\n",
       "      <th></th>\n",
       "      <th></th>\n",
       "      <th></th>\n",
       "      <th></th>\n",
       "      <th></th>\n",
       "      <th></th>\n",
       "      <th></th>\n",
       "      <th></th>\n",
       "    </tr>\n",
       "  </thead>\n",
       "  <tbody>\n",
       "    <tr>\n",
       "      <th>1</th>\n",
       "      <td>1</td>\n",
       "      <td>1</td>\n",
       "      <td>631</td>\n",
       "      <td>10.0</td>\n",
       "      <td>40</td>\n",
       "      <td>24.7</td>\n",
       "      <td>31</td>\n",
       "      <td>€13.84m</td>\n",
       "      <td>€553.50m</td>\n",
       "      <td>€87.49m</td>\n",
       "      <td>€96.50m</td>\n",
       "      <td>€-9.01m</td>\n",
       "    </tr>\n",
       "    <tr>\n",
       "      <th>2</th>\n",
       "      <td>1</td>\n",
       "      <td>1</td>\n",
       "      <td>281</td>\n",
       "      <td>4.0</td>\n",
       "      <td>38</td>\n",
       "      <td>25.4</td>\n",
       "      <td>27</td>\n",
       "      <td>€13.14m</td>\n",
       "      <td>€499.35m</td>\n",
       "      <td>€67.44m</td>\n",
       "      <td>€208.47m</td>\n",
       "      <td>€-141.03m</td>\n",
       "    </tr>\n",
       "    <tr>\n",
       "      <th>3</th>\n",
       "      <td>1</td>\n",
       "      <td>1</td>\n",
       "      <td>11</td>\n",
       "      <td>2.0</td>\n",
       "      <td>41</td>\n",
       "      <td>24.7</td>\n",
       "      <td>29</td>\n",
       "      <td>€11.17m</td>\n",
       "      <td>€457.85m</td>\n",
       "      <td>€2.50m</td>\n",
       "      <td>€26.50m</td>\n",
       "      <td>€-24.00m</td>\n",
       "    </tr>\n",
       "  </tbody>\n",
       "</table>\n",
       "</div>"
      ],
      "text/plain": [
       "                season_id  league_id  club_id  club_rank  squad  avg_age   \n",
       "season_info_id                                                             \n",
       "1                       1          1      631       10.0     40     24.7  \\\n",
       "2                       1          1      281        4.0     38     25.4   \n",
       "3                       1          1       11        2.0     41     24.7   \n",
       "\n",
       "                foreign_players avg_marketValue total_marketValue   income   \n",
       "season_info_id                                                               \n",
       "1                            31         €13.84m          €553.50m  €87.49m  \\\n",
       "2                            27         €13.14m          €499.35m  €67.44m   \n",
       "3                            29         €11.17m          €457.85m   €2.50m   \n",
       "\n",
       "               expenditure overbalance  \n",
       "season_info_id                          \n",
       "1                  €96.50m     €-9.01m  \n",
       "2                 €208.47m   €-141.03m  \n",
       "3                  €26.50m    €-24.00m  "
      ]
     },
     "execution_count": 24,
     "metadata": {},
     "output_type": "execute_result"
    }
   ],
   "source": [
    "table_season_info = df_club.loc[:, ['Season', 'League', 'ClubID', 'Rank', 'Squad', \n",
    "                                    'avgAge', 'Foreigners', 'avgMarketValue', 'totalMarketValue', \n",
    "                                    'Club_income', 'Club_expenditure', 'Club_OverallBalance']]\n",
    "                                    \n",
    "table_season_info['League'] = table_season_info['League'].map(league_dict)\n",
    "table_season_info['Season'] = table_season_info['Season'].map(season_dict)\n",
    "\n",
    "table_season_info = table_season_info.rename(columns={'Season': 'season_id', 'League': 'league_id', 'ClubID': 'club_id',\n",
    "                          'Rank': 'club_rank', 'Squad': 'squad', 'avgAge': 'avg_age',\n",
    "                          'Foreigners': 'foreign_players', 'avgMarketValue': 'avg_marketValue',\n",
    "                          'totalMarketValue': 'total_marketValue', 'Club_income': 'income',\n",
    "                          'Club_expenditure': 'expenditure', 'Club_OverallBalance': 'overbalance'})\n",
    "\n",
    "table_season_info = table_season_info.assign(season_info_id=range(1, len(table_season_info)+1)).set_index('season_info_id')\n",
    "table_season_info.head(3)"
   ]
  },
  {
   "cell_type": "code",
   "execution_count": null,
   "metadata": {},
   "outputs": [],
   "source": [
    "query_season_info = text(\"\"\"\n",
    "CREATE TABLE season_info (\n",
    "season_info_id INT NOT NULL AUTO_INCREMENT,\n",
    "season_id INT NOT NULL,\n",
    "league_id INT NOT NULL,\n",
    "club_id INT NOT NULL,\n",
    "club_rank INT,\n",
    "squad INT,\n",
    "avg_age FLOAT,\n",
    "foreign_players INT,\n",
    "avg_marketValue VARCHAR(12),\n",
    "total_marketValue VARCHAR(12),\n",
    "income VARCHAR(12),\n",
    "overbalance VARCHAR(12),\n",
    "expenditure VARCHAR(12),\n",
    "PRIMARY KEY (season_info_id),\n",
    "FOREIGN KEY (season_id) REFERENCES season(season_id),\n",
    "FOREIGN KEY (league_id) REFERENCES league(league_id),\n",
    "FOREIGN KEY (club_id) REFERENCES club(club_id)\n",
    ");\"\"\")"
   ]
  },
  {
   "cell_type": "code",
   "execution_count": null,
   "metadata": {},
   "outputs": [],
   "source": [
    "with engine.connect() as conn:\n",
    "    conn.execute(text('USE football;'))\n",
    "    conn.execute(query_season_info)"
   ]
  },
  {
   "cell_type": "code",
   "execution_count": 25,
   "metadata": {},
   "outputs": [],
   "source": [
    "with engine.connect() as conn:\n",
    "    table_season_info.to_sql(name='season_info', con=conn, schema='football', if_exists='append', chunksize=50, method='multi')"
   ]
  },
  {
   "attachments": {},
   "cell_type": "markdown",
   "metadata": {},
   "source": [
    "CREATE TABLE Coach ⚽️"
   ]
  },
  {
   "cell_type": "code",
   "execution_count": 145,
   "metadata": {},
   "outputs": [],
   "source": [
    "# mohammad"
   ]
  },
  {
   "attachments": {},
   "cell_type": "markdown",
   "metadata": {},
   "source": [
    "CREATE TABLE Coach_Season_info ⚽️"
   ]
  },
  {
   "cell_type": "code",
   "execution_count": 146,
   "metadata": {},
   "outputs": [],
   "source": [
    "# mohammad"
   ]
  },
  {
   "attachments": {},
   "cell_type": "markdown",
   "metadata": {},
   "source": [
    "CREATE TABLE Victories ⚽️"
   ]
  },
  {
   "cell_type": "code",
   "execution_count": 147,
   "metadata": {},
   "outputs": [],
   "source": [
    "# mohammad"
   ]
  },
  {
   "attachments": {},
   "cell_type": "markdown",
   "metadata": {},
   "source": [
    "CREATE TABLE Victories_Season_info ⚽️"
   ]
  },
  {
   "cell_type": "code",
   "execution_count": 148,
   "metadata": {},
   "outputs": [],
   "source": [
    "# mohammad"
   ]
  },
  {
   "attachments": {},
   "cell_type": "markdown",
   "metadata": {},
   "source": [
    "CREATE TABLE Positions ⚽️"
   ]
  },
  {
   "cell_type": "code",
   "execution_count": 149,
   "metadata": {},
   "outputs": [],
   "source": [
    "# Ali"
   ]
  },
  {
   "attachments": {},
   "cell_type": "markdown",
   "metadata": {},
   "source": [
    "CREATE TABLE Players ⚽️"
   ]
  },
  {
   "cell_type": "code",
   "execution_count": 26,
   "metadata": {},
   "outputs": [
    {
     "data": {
      "text/html": [
       "<div>\n",
       "<style scoped>\n",
       "    .dataframe tbody tr th:only-of-type {\n",
       "        vertical-align: middle;\n",
       "    }\n",
       "\n",
       "    .dataframe tbody tr th {\n",
       "        vertical-align: top;\n",
       "    }\n",
       "\n",
       "    .dataframe thead th {\n",
       "        text-align: right;\n",
       "    }\n",
       "</style>\n",
       "<table border=\"1\" class=\"dataframe\">\n",
       "  <thead>\n",
       "    <tr style=\"text-align: right;\">\n",
       "      <th></th>\n",
       "      <th>given_name</th>\n",
       "      <th>full_name</th>\n",
       "      <th>date_of_birth</th>\n",
       "      <th>citizenship</th>\n",
       "      <th>place_of_birth</th>\n",
       "      <th>foot</th>\n",
       "      <th>height</th>\n",
       "    </tr>\n",
       "    <tr>\n",
       "      <th>player_id</th>\n",
       "      <th></th>\n",
       "      <th></th>\n",
       "      <th></th>\n",
       "      <th></th>\n",
       "      <th></th>\n",
       "      <th></th>\n",
       "      <th></th>\n",
       "    </tr>\n",
       "  </thead>\n",
       "  <tbody>\n",
       "    <tr>\n",
       "      <th>465955</th>\n",
       "      <td>Marcin Bulka</td>\n",
       "      <td>Marcin Bułka</td>\n",
       "      <td>Oct 4, 1999</td>\n",
       "      <td>Poland</td>\n",
       "      <td>Płock</td>\n",
       "      <td>right</td>\n",
       "      <td>199.0</td>\n",
       "    </tr>\n",
       "    <tr>\n",
       "      <th>2998</th>\n",
       "      <td>Robert Huth</td>\n",
       "      <td>NaN</td>\n",
       "      <td>Aug 18, 1984</td>\n",
       "      <td>Germany</td>\n",
       "      <td>Berlin</td>\n",
       "      <td>NaN</td>\n",
       "      <td>NaN</td>\n",
       "    </tr>\n",
       "    <tr>\n",
       "      <th>406633</th>\n",
       "      <td>Nya Kirby</td>\n",
       "      <td>Nya Jerome Kirby</td>\n",
       "      <td>Jan 31, 2000</td>\n",
       "      <td>England</td>\n",
       "      <td>London</td>\n",
       "      <td>right</td>\n",
       "      <td>174.0</td>\n",
       "    </tr>\n",
       "  </tbody>\n",
       "</table>\n",
       "</div>"
      ],
      "text/plain": [
       "             given_name         full_name date_of_birth citizenship   \n",
       "player_id                                                             \n",
       "465955     Marcin Bulka      Marcin Bułka   Oct 4, 1999      Poland  \\\n",
       "2998        Robert Huth               NaN  Aug 18, 1984     Germany   \n",
       "406633        Nya Kirby  Nya Jerome Kirby  Jan 31, 2000     England   \n",
       "\n",
       "          place_of_birth   foot  height  \n",
       "player_id                                \n",
       "465955             Płock  right   199.0  \n",
       "2998              Berlin    NaN     NaN  \n",
       "406633            London  right   174.0  "
      ]
     },
     "execution_count": 26,
     "metadata": {},
     "output_type": "execute_result"
    }
   ],
   "source": [
    "table_players = df_players_data[[\"given_name\", \"full_name\", \"date_of_birth\", \"citizenship\", \"place_of_birth\", \"foot\", \"height\"]]\n",
    "table_players.head(3)"
   ]
  },
  {
   "cell_type": "code",
   "execution_count": 27,
   "metadata": {},
   "outputs": [],
   "source": [
    "with engine.connect() as conn:\n",
    "    table_players.to_sql(name=\"players\", con=conn, schema=\"football\", if_exists=\"replace\", chunksize=50, method=\"multi\",\n",
    "                          index_label=\"player_id\", dtype= {\"player_id\" : Integer(), \"given_name\" : VARCHAR(40), \"full_name\" : VARCHAR(70),\n",
    "                                                           \"date_of_birth\" : VARCHAR(15), \"citizenship\" : VARCHAR(30), \"place_of_birth\" : VARCHAR(40),\n",
    "                                                           \"foot\" : VARCHAR(6), \"height\" : Integer()})\n"
   ]
  },
  {
   "attachments": {},
   "cell_type": "markdown",
   "metadata": {},
   "source": [
    "CREATE TABLE Players_Season_info ⚽️"
   ]
  },
  {
   "cell_type": "code",
   "execution_count": null,
   "metadata": {},
   "outputs": [],
   "source": [
    "# ali"
   ]
  },
  {
   "attachments": {},
   "cell_type": "markdown",
   "metadata": {},
   "source": [
    "CREATE TABLE Outfitters ⚽️"
   ]
  },
  {
   "cell_type": "code",
   "execution_count": 28,
   "metadata": {},
   "outputs": [
    {
     "data": {
      "text/html": [
       "<div>\n",
       "<style scoped>\n",
       "    .dataframe tbody tr th:only-of-type {\n",
       "        vertical-align: middle;\n",
       "    }\n",
       "\n",
       "    .dataframe tbody tr th {\n",
       "        vertical-align: top;\n",
       "    }\n",
       "\n",
       "    .dataframe thead th {\n",
       "        text-align: right;\n",
       "    }\n",
       "</style>\n",
       "<table border=\"1\" class=\"dataframe\">\n",
       "  <thead>\n",
       "    <tr style=\"text-align: right;\">\n",
       "      <th></th>\n",
       "      <th>outfitter_name</th>\n",
       "    </tr>\n",
       "    <tr>\n",
       "      <th>outfitter_id</th>\n",
       "      <th></th>\n",
       "    </tr>\n",
       "  </thead>\n",
       "  <tbody>\n",
       "    <tr>\n",
       "      <th>1</th>\n",
       "      <td>Nike</td>\n",
       "    </tr>\n",
       "    <tr>\n",
       "      <th>2</th>\n",
       "      <td>adidas</td>\n",
       "    </tr>\n",
       "    <tr>\n",
       "      <th>3</th>\n",
       "      <td>Puma</td>\n",
       "    </tr>\n",
       "    <tr>\n",
       "      <th>4</th>\n",
       "      <td>Under Armour</td>\n",
       "    </tr>\n",
       "    <tr>\n",
       "      <th>5</th>\n",
       "      <td>Umbro</td>\n",
       "    </tr>\n",
       "    <tr>\n",
       "      <th>6</th>\n",
       "      <td>New Balance</td>\n",
       "    </tr>\n",
       "    <tr>\n",
       "      <th>7</th>\n",
       "      <td>Uhlsport</td>\n",
       "    </tr>\n",
       "    <tr>\n",
       "      <th>8</th>\n",
       "      <td>Sells</td>\n",
       "    </tr>\n",
       "    <tr>\n",
       "      <th>9</th>\n",
       "      <td>Mizuno</td>\n",
       "    </tr>\n",
       "    <tr>\n",
       "      <th>10</th>\n",
       "      <td>Joma</td>\n",
       "    </tr>\n",
       "    <tr>\n",
       "      <th>11</th>\n",
       "      <td>DIADORA</td>\n",
       "    </tr>\n",
       "    <tr>\n",
       "      <th>12</th>\n",
       "      <td>AB1</td>\n",
       "    </tr>\n",
       "    <tr>\n",
       "      <th>13</th>\n",
       "      <td>Lotto</td>\n",
       "    </tr>\n",
       "    <tr>\n",
       "      <th>14</th>\n",
       "      <td>Hummel</td>\n",
       "    </tr>\n",
       "    <tr>\n",
       "      <th>15</th>\n",
       "      <td>Elite Sport</td>\n",
       "    </tr>\n",
       "    <tr>\n",
       "      <th>16</th>\n",
       "      <td>Asics</td>\n",
       "    </tr>\n",
       "    <tr>\n",
       "      <th>17</th>\n",
       "      <td>Catch &amp; Keep</td>\n",
       "    </tr>\n",
       "    <tr>\n",
       "      <th>18</th>\n",
       "      <td>HashtagOne</td>\n",
       "    </tr>\n",
       "    <tr>\n",
       "      <th>19</th>\n",
       "      <td>X-ONE</td>\n",
       "    </tr>\n",
       "    <tr>\n",
       "      <th>20</th>\n",
       "      <td>Reusch</td>\n",
       "    </tr>\n",
       "    <tr>\n",
       "      <th>21</th>\n",
       "      <td>Saller</td>\n",
       "    </tr>\n",
       "    <tr>\n",
       "      <th>22</th>\n",
       "      <td>Erima</td>\n",
       "    </tr>\n",
       "  </tbody>\n",
       "</table>\n",
       "</div>"
      ],
      "text/plain": [
       "             outfitter_name\n",
       "outfitter_id               \n",
       "1                      Nike\n",
       "2                    adidas\n",
       "3                      Puma\n",
       "4              Under Armour\n",
       "5                     Umbro\n",
       "6               New Balance\n",
       "7                  Uhlsport\n",
       "8                     Sells\n",
       "9                    Mizuno\n",
       "10                     Joma\n",
       "11                  DIADORA\n",
       "12                      AB1\n",
       "13                    Lotto\n",
       "14                   Hummel\n",
       "15              Elite Sport\n",
       "16                    Asics\n",
       "17             Catch & Keep\n",
       "18               HashtagOne\n",
       "19                    X-ONE\n",
       "20                   Reusch\n",
       "21                   Saller\n",
       "22                    Erima"
      ]
     },
     "execution_count": 28,
     "metadata": {},
     "output_type": "execute_result"
    }
   ],
   "source": [
    "table_outfitters = df_players_data.loc[:, ['outfitter']].drop_duplicates().dropna()\n",
    "table_outfitters = table_outfitters.assign(outfitter_id=range(1, len(table_outfitters) + 1)).set_index('outfitter_id').rename(columns={'outfitter': 'outfitter_name'})\n",
    "table_outfitters"
   ]
  },
  {
   "cell_type": "code",
   "execution_count": 29,
   "metadata": {},
   "outputs": [],
   "source": [
    "with engine.connect() as conn:\n",
    "    table_outfitters.to_sql(name=\"outfitter\", con=conn, schema=\"football\", if_exists=\"replace\", chunksize=50, method=\"multi\",\n",
    "                              index_label = \"outfitter_id\", dtype = {\"outfitter_id\" : Integer(), \"outfitter_name\" : VARCHAR(15)})"
   ]
  },
  {
   "attachments": {},
   "cell_type": "markdown",
   "metadata": {},
   "source": [
    "CREATE TABLE Player_info ⚽️"
   ]
  },
  {
   "cell_type": "code",
   "execution_count": null,
   "metadata": {},
   "outputs": [],
   "source": [
    "# zahra"
   ]
  },
  {
   "attachments": {},
   "cell_type": "markdown",
   "metadata": {},
   "source": [
    "CREATE TABLE Outfitter_Player_info ⚽️"
   ]
  },
  {
   "cell_type": "code",
   "execution_count": null,
   "metadata": {},
   "outputs": [],
   "source": [
    "# Zhara"
   ]
  },
  {
   "attachments": {},
   "cell_type": "markdown",
   "metadata": {},
   "source": [
    "CREATE TABLE Stats ⚽️"
   ]
  },
  {
   "cell_type": "code",
   "execution_count": null,
   "metadata": {},
   "outputs": [],
   "source": [
    "# Zahra"
   ]
  },
  {
   "attachments": {},
   "cell_type": "markdown",
   "metadata": {},
   "source": [
    "CREATE TABLE Transfer ⚽️"
   ]
  },
  {
   "cell_type": "code",
   "execution_count": 50,
   "metadata": {},
   "outputs": [
    {
     "data": {
      "text/html": [
       "<div>\n",
       "<style scoped>\n",
       "    .dataframe tbody tr th:only-of-type {\n",
       "        vertical-align: middle;\n",
       "    }\n",
       "\n",
       "    .dataframe tbody tr th {\n",
       "        vertical-align: top;\n",
       "    }\n",
       "\n",
       "    .dataframe thead th {\n",
       "        text-align: right;\n",
       "    }\n",
       "</style>\n",
       "<table border=\"1\" class=\"dataframe\">\n",
       "  <thead>\n",
       "    <tr style=\"text-align: right;\">\n",
       "      <th></th>\n",
       "      <th>season</th>\n",
       "      <th>date</th>\n",
       "      <th>left</th>\n",
       "      <th>joined</th>\n",
       "      <th>mv</th>\n",
       "      <th>fee</th>\n",
       "    </tr>\n",
       "    <tr>\n",
       "      <th>player_id</th>\n",
       "      <th></th>\n",
       "      <th></th>\n",
       "      <th></th>\n",
       "      <th></th>\n",
       "      <th></th>\n",
       "      <th></th>\n",
       "    </tr>\n",
       "  </thead>\n",
       "  <tbody>\n",
       "    <tr>\n",
       "      <th>465955</th>\n",
       "      <td>21/22</td>\n",
       "      <td>Aug 5, 2021</td>\n",
       "      <td>Paris SG</td>\n",
       "      <td>OGC Nice</td>\n",
       "      <td>€800k</td>\n",
       "      <td>loan transfer</td>\n",
       "    </tr>\n",
       "    <tr>\n",
       "      <th>465955</th>\n",
       "      <td>20/21</td>\n",
       "      <td>Jun 30, 2021</td>\n",
       "      <td>LB Châteauroux</td>\n",
       "      <td>Paris SG</td>\n",
       "      <td>€800k</td>\n",
       "      <td>End of loan</td>\n",
       "    </tr>\n",
       "  </tbody>\n",
       "</table>\n",
       "</div>"
      ],
      "text/plain": [
       "          season          date            left    joined     mv            fee\n",
       "player_id                                                                     \n",
       "465955     21/22   Aug 5, 2021        Paris SG  OGC Nice  €800k  loan transfer\n",
       "465955     20/21  Jun 30, 2021  LB Châteauroux  Paris SG  €800k    End of loan"
      ]
     },
     "execution_count": 50,
     "metadata": {},
     "output_type": "execute_result"
    }
   ],
   "source": [
    "df_players_transfers.head(2)"
   ]
  },
  {
   "cell_type": "code",
   "execution_count": 69,
   "metadata": {},
   "outputs": [
    {
     "data": {
      "text/html": [
       "<div>\n",
       "<style scoped>\n",
       "    .dataframe tbody tr th:only-of-type {\n",
       "        vertical-align: middle;\n",
       "    }\n",
       "\n",
       "    .dataframe tbody tr th {\n",
       "        vertical-align: top;\n",
       "    }\n",
       "\n",
       "    .dataframe thead th {\n",
       "        text-align: right;\n",
       "    }\n",
       "</style>\n",
       "<table border=\"1\" class=\"dataframe\">\n",
       "  <thead>\n",
       "    <tr style=\"text-align: right;\">\n",
       "      <th></th>\n",
       "      <th>player_id</th>\n",
       "      <th>transfer_date</th>\n",
       "      <th>club_left</th>\n",
       "      <th>club_joined</th>\n",
       "      <th>mv</th>\n",
       "      <th>fee</th>\n",
       "    </tr>\n",
       "    <tr>\n",
       "      <th>transfer_id</th>\n",
       "      <th></th>\n",
       "      <th></th>\n",
       "      <th></th>\n",
       "      <th></th>\n",
       "      <th></th>\n",
       "      <th></th>\n",
       "    </tr>\n",
       "  </thead>\n",
       "  <tbody>\n",
       "    <tr>\n",
       "      <th>1</th>\n",
       "      <td>465955</td>\n",
       "      <td>21/22</td>\n",
       "      <td>Paris SG</td>\n",
       "      <td>OGC Nice</td>\n",
       "      <td>€800k</td>\n",
       "      <td>loan transfer</td>\n",
       "    </tr>\n",
       "    <tr>\n",
       "      <th>2</th>\n",
       "      <td>465955</td>\n",
       "      <td>20/21</td>\n",
       "      <td>LB Châteauroux</td>\n",
       "      <td>Paris SG</td>\n",
       "      <td>€800k</td>\n",
       "      <td>End of loan</td>\n",
       "    </tr>\n",
       "    <tr>\n",
       "      <th>3</th>\n",
       "      <td>465955</td>\n",
       "      <td>20/21</td>\n",
       "      <td>Paris SG</td>\n",
       "      <td>LB Châteauroux</td>\n",
       "      <td>€900k</td>\n",
       "      <td>loan transfer</td>\n",
       "    </tr>\n",
       "  </tbody>\n",
       "</table>\n",
       "</div>"
      ],
      "text/plain": [
       "             player_id transfer_date       club_left     club_joined     mv   \n",
       "transfer_id                                                                   \n",
       "1               465955         21/22        Paris SG        OGC Nice  €800k  \\\n",
       "2               465955         20/21  LB Châteauroux        Paris SG  €800k   \n",
       "3               465955         20/21        Paris SG  LB Châteauroux  €900k   \n",
       "\n",
       "                       fee  \n",
       "transfer_id                 \n",
       "1            loan transfer  \n",
       "2              End of loan  \n",
       "3            loan transfer  "
      ]
     },
     "execution_count": 69,
     "metadata": {},
     "output_type": "execute_result"
    }
   ],
   "source": [
    "table_transfer = df_players_transfers.drop('date', axis=1).reset_index()\n",
    "table_transfer = table_transfer.assign(transfer_id=range(1, len(table_transfer) + 1)).set_index('transfer_id')\n",
    "table_transfer.rename(columns = {\"season\" : \"transfer_date\", 'left': 'club_left', 'joined': 'club_joined'}, inplace = True)\n",
    "table_transfer.head(3)"
   ]
  },
  {
   "cell_type": "code",
   "execution_count": 70,
   "metadata": {},
   "outputs": [],
   "source": [
    "query_transfer = text(\"\"\"\n",
    "CREATE TABLE transfer (\n",
    "transfer_id INT NOT NULL,\n",
    "player_id INT NOT NULL,\n",
    "transfer_date VARCHAR(15),\n",
    "club_left VARCHAR(30),\n",
    "club_joined VARCHAR(30),\n",
    "mv VARCHAR(15),\n",
    "fee VARCHAR(25),\n",
    "PRIMARY KEY (transfer_id),\n",
    "FOREIGN KEY (player_id) REFERENCES players(player_id)\n",
    ");\"\"\")"
   ]
  },
  {
   "cell_type": "code",
   "execution_count": 67,
   "metadata": {},
   "outputs": [],
   "source": [
    "with engine.connect() as conn:\n",
    "    conn.execute(text('USE football;'))\n",
    "    conn.execute(query_transfer)"
   ]
  },
  {
   "cell_type": "code",
   "execution_count": 71,
   "metadata": {},
   "outputs": [],
   "source": [
    "with engine.connect() as conn:\n",
    "    table_transfer.to_sql(name=\"transfer\", con=conn, schema=\"football\", if_exists=\"append\", chunksize=50, method=\"multi\")"
   ]
  }
 ],
 "metadata": {
  "kernelspec": {
   "display_name": "Python 3",
   "language": "python",
   "name": "python3"
  },
  "language_info": {
   "codemirror_mode": {
    "name": "ipython",
    "version": 3
   },
   "file_extension": ".py",
   "mimetype": "text/x-python",
   "name": "python",
   "nbconvert_exporter": "python",
   "pygments_lexer": "ipython3",
   "version": "3.11.3"
  },
  "orig_nbformat": 4
 },
 "nbformat": 4,
 "nbformat_minor": 2
}
