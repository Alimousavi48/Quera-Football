{
 "cells": [
  {
   "attachments": {},
   "cell_type": "markdown",
   "metadata": {},
   "source": [
    "IMPORTING LIBRARIES 📚"
   ]
  },
  {
   "cell_type": "code",
   "execution_count": 1,
   "metadata": {},
   "outputs": [],
   "source": [
    "import requests\n",
    "import pandas as pd\n",
    "from bs4 import BeautifulSoup"
   ]
  },
  {
   "attachments": {},
   "cell_type": "markdown",
   "metadata": {},
   "source": [
    "Getting each countries first leagues clubs 🔍"
   ]
  },
  {
   "cell_type": "code",
   "execution_count": 101,
   "metadata": {},
   "outputs": [],
   "source": [
    "def create_clubs_links(country_list, country_url):\n",
    "    for i in [\"2015\", \"2016\", \"2017\", \"2018\", \"2019\", \"2020\", \"2021\"]:\n",
    "        headers = {\"User-Agent\": \"Mozilla/5.0 (Windows NT 10.0; Win64; x64) AppleWebKit/537.36 (KHTML, like Gecko) Chrome/58.0.3029.110 Safari/537.36\", \"accept-language\": \"en-US,en;q=0.9\"}        \n",
    "        url = country_url + i\n",
    "        page = requests.get(url, headers = headers)\n",
    "        soup = BeautifulSoup(page.content, \"html.parser\")\n",
    "\n",
    "        club_links = []\n",
    "        td_elements = soup.find_all(\"td\", class_ = \"hauptlink no-border-links\")\n",
    "        for td in td_elements:\n",
    "            club_link = td.find(\"a\")[\"href\"]\n",
    "            club_links.append(\"https://www.transfermarkt.com\" + str(club_link))\n",
    "\n",
    "        for i in club_links:\n",
    "            country_list += [i]\n",
    "\n",
    "    return country_list"
   ]
  },
  {
   "cell_type": "code",
   "execution_count": 123,
   "metadata": {},
   "outputs": [],
   "source": [
    "England_list, Germany_list, Italy_list, France_list, Spain_list = [], [], [], [], []\n",
    "\n",
    "England_list = create_clubs_links(England_list, \"https://www.transfermarkt.com/premier-league/startseite/wettbewerb/GB1/plus/?saison_id=\")\n",
    "Germany_list = create_clubs_links(Germany_list, \"https://www.transfermarkt.com/bundesliga/startseite/wettbewerb/L1/plus/?saison_id=\")\n",
    "Italy_list = create_clubs_links(Italy_list, \"https://www.transfermarkt.com/serie-a/startseite/wettbewerb/IT1/plus/?saison_id=\")\n",
    "France_list = create_clubs_links(France_list, \"https://www.transfermarkt.com/ligue-1/startseite/wettbewerb/FR1/plus/?saison_id=\")\n",
    "Spain_list = create_clubs_links(Spain_list, \"https://www.transfermarkt.com/laliga/startseite/wettbewerb/ES1/plus/?saison_id=\")"
   ]
  },
  {
   "attachments": {},
   "cell_type": "markdown",
   "metadata": {},
   "source": [
    "Getting each countries players link⚽"
   ]
  },
  {
   "cell_type": "code",
   "execution_count": 140,
   "metadata": {},
   "outputs": [],
   "source": [
    "def find_players_link(country_list, country_players_links):\n",
    "    for i in country_list:\n",
    "        site = i\n",
    "        hdr = {\"User-Agent\": \"Mozilla/5.0 (Windows NT 10.0; Win64; x64) AppleWebKit/537.36 (KHTML, like Gecko) Chrome/58.0.3029.110 Safari/537.36\", \"accept-language\": \"en-US,en;q=0.9\"}\n",
    "        page = requests.get(site, headers = hdr)\n",
    "        soup = BeautifulSoup(page.content, \"html.parser\")\n",
    "\n",
    "        player_link = []\n",
    "        for i in soup.select(\".di a\"):\n",
    "            temp = \"https://www.transfermarkt.com\" + i[\"href\"]\n",
    "            player_link.append(temp)\n",
    "        player_link = list(set(player_link))\n",
    "        for i in player_link:\n",
    "            country_players_links += [i]\n",
    "\n",
    "    return country_players_links"
   ]
  },
  {
   "cell_type": "code",
   "execution_count": 141,
   "metadata": {},
   "outputs": [],
   "source": [
    "England_players_links = []\n",
    "England_players_links = find_players_link(England_list, England_players_links)\n",
    "England_players_links = [*set(England_players_links)]"
   ]
  },
  {
   "cell_type": "code",
   "execution_count": 152,
   "metadata": {},
   "outputs": [],
   "source": [
    "Germany_players_links = []\n",
    "Germany_players_links = find_players_link(Germany_list, Germany_players_links)\n",
    "Germany_players_links = [*set(Germany_players_links)]"
   ]
  },
  {
   "cell_type": "code",
   "execution_count": 155,
   "metadata": {},
   "outputs": [],
   "source": [
    "Italy_players_links = []\n",
    "Italy_players_links = find_players_link(Italy_list, Italy_players_links)\n",
    "Italy_players_links = [*set(Italy_players_links)]"
   ]
  },
  {
   "cell_type": "code",
   "execution_count": 158,
   "metadata": {},
   "outputs": [],
   "source": [
    "France_players_links = []\n",
    "France_players_links = find_players_link(France_list, France_players_links)\n",
    "France_players_links = [*set(France_players_links)]"
   ]
  },
  {
   "cell_type": "code",
   "execution_count": 161,
   "metadata": {},
   "outputs": [],
   "source": [
    "Spain_players_links = []\n",
    "Spain_players_links = find_players_link(Spain_list, Spain_players_links)\n",
    "Spain_players_links = [*set(Spain_players_links)]"
   ]
  },
  {
   "attachments": {},
   "cell_type": "markdown",
   "metadata": {},
   "source": [
    "CSV File for each countries players links 🏃‍♂️"
   ]
  },
  {
   "cell_type": "code",
   "execution_count": 151,
   "metadata": {},
   "outputs": [],
   "source": [
    "pd.DataFrame(England_players_links).to_csv(\"England_players_links.csv\", index = False)"
   ]
  },
  {
   "cell_type": "code",
   "execution_count": 154,
   "metadata": {},
   "outputs": [],
   "source": [
    "pd.DataFrame(Germany_players_links).to_csv(\"Germany_players_links.csv\", index = False)"
   ]
  },
  {
   "cell_type": "code",
   "execution_count": 157,
   "metadata": {},
   "outputs": [],
   "source": [
    "pd.DataFrame(Italy_players_links).to_csv(\"Italy_players_links.csv\", index = False)"
   ]
  },
  {
   "cell_type": "code",
   "execution_count": 159,
   "metadata": {},
   "outputs": [],
   "source": [
    "pd.DataFrame(France_players_links).to_csv(\"France_players_links.csv\", index = False)"
   ]
  },
  {
   "cell_type": "code",
   "execution_count": null,
   "metadata": {},
   "outputs": [],
   "source": [
    "pd.DataFrame(Spain_players_links).to_csv(\"Spain_players_links.csv\", index = False)"
   ]
  },
  {
   "attachments": {},
   "cell_type": "markdown",
   "metadata": {},
   "source": [
    "All players in one csv file 📖"
   ]
  },
  {
   "cell_type": "code",
   "execution_count": 10,
   "metadata": {},
   "outputs": [],
   "source": [
    "England_players_links = pd.read_csv(\"England_players_links.csv\")\n",
    "Germany_players_links = pd.read_csv(\"Germany_players_links.csv\")\n",
    "Italy_players_links = pd.read_csv(\"Italy_players_links.csv\")\n",
    "France_players_links = pd.read_csv(\"France_players_links.csv\")\n",
    "Spain_players_links = pd.read_csv(\"Spain_players_links.csv\")"
   ]
  },
  {
   "cell_type": "code",
   "execution_count": 12,
   "metadata": {},
   "outputs": [],
   "source": [
    "all_players_df = England_players_links.append(Germany_players_links).append(Italy_players_links).append(France_players_links).append(Spain_players_links)\n",
    "all_players_df = all_players_df.drop_duplicates()\n",
    "pd.DataFrame(all_players_df).to_csv(\"All_players_links.csv\", index = False)"
   ]
  }
 ],
 "metadata": {
  "kernelspec": {
   "display_name": "qenv",
   "language": "python",
   "name": "qenv"
  },
  "language_info": {
   "codemirror_mode": {
    "name": "ipython",
    "version": 3
   },
   "file_extension": ".py",
   "mimetype": "text/x-python",
   "name": "python",
   "nbconvert_exporter": "python",
   "pygments_lexer": "ipython3",
   "version": "3.9.6"
  },
  "orig_nbformat": 4
 },
 "nbformat": 4,
 "nbformat_minor": 2
}
