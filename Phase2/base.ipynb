{
 "cells": [
  {
   "attachments": {},
   "cell_type": "markdown",
   "metadata": {},
   "source": [
    "IMPORT LIBRARIES 📚"
   ]
  },
  {
   "cell_type": "code",
   "execution_count": null,
   "metadata": {},
   "outputs": [],
   "source": [
    "from sqlalchemy import create_engine\n",
    "from sqlalchemy import URL\n",
    "from sqlalchemy import text\n",
    "from urllib.parse import quote_plus\n",
    "from sqlalchemy.types import Integer, VARCHAR, CHAR\n",
    "from sqlalchemy import ForeignKeyConstraint\n",
    "import pandas as pd "
   ]
  },
  {
   "attachments": {},
   "cell_type": "markdown",
   "metadata": {},
   "source": [
    "Connection and CREATE SCHEMA 📝"
   ]
  },
  {
   "cell_type": "code",
   "execution_count": null,
   "metadata": {},
   "outputs": [],
   "source": [
    "url_object = URL.create(\n",
    "    \"mysql+mysqlconnector\",\n",
    "    username=\"root\",\n",
    "    password=\"farzansql\",\n",
    "    host=\"localhost\",\n",
    ")"
   ]
  },
  {
   "cell_type": "code",
   "execution_count": null,
   "metadata": {},
   "outputs": [],
   "source": [
    "engine = create_engine(url_object)"
   ]
  },
  {
   "cell_type": "code",
   "execution_count": null,
   "metadata": {},
   "outputs": [],
   "source": [
    "with engine.connect() as conn : \n",
    "    conn.execute(text('CREATE Schema football;'))"
   ]
  },
  {
   "attachments": {},
   "cell_type": "markdown",
   "metadata": {},
   "source": [
    "Read Clubs Data 📗"
   ]
  },
  {
   "cell_type": "code",
   "execution_count": null,
   "metadata": {},
   "outputs": [],
   "source": [
    "%pwd"
   ]
  },
  {
   "cell_type": "code",
   "execution_count": null,
   "metadata": {},
   "outputs": [],
   "source": [
    "df_club = pd.read_csv('Phase1\\data\\club.csv', index_col=0)\n",
    "df_club_players = pd.read_csv('Phase1\\data\\club_players.csv', index_col=0)\n",
    "df_club_table_league = pd.read_csv('Phase1\\data\\club_table_league.csv', index_col=0)"
   ]
  },
  {
   "cell_type": "code",
   "execution_count": null,
   "metadata": {},
   "outputs": [],
   "source": [
    "df_club_table_league.head(3)"
   ]
  },
  {
   "attachments": {},
   "cell_type": "markdown",
   "metadata": {},
   "source": [
    "Read Players Data 📗"
   ]
  },
  {
   "cell_type": "code",
   "execution_count": null,
   "metadata": {},
   "outputs": [],
   "source": [
    "df_players_datas = pd.read_csv('Phase1\\data\\players_datas.csv', index_col=0)\n",
    "df_players_stats = pd.read_csv('Phase1\\data\\players_stats.csv', index_col=0)\n",
    "df_players_transfers = pd.read_csv('Phase1\\data\\players_transfers.csv', index_col=0)"
   ]
  },
  {
   "cell_type": "code",
   "execution_count": null,
   "metadata": {},
   "outputs": [],
   "source": [
    "df_players_datas.head(3)"
   ]
  },
  {
   "attachments": {},
   "cell_type": "markdown",
   "metadata": {},
   "source": [
    "CREATE TABLE Country ⚽️"
   ]
  },
  {
   "cell_type": "code",
   "execution_count": null,
   "metadata": {},
   "outputs": [],
   "source": [
    "table_country = df_club.loc[:, ['CountryID', 'Country']].drop_duplicates()\n",
    "table_country = table_country.rename(columns={'CountryID': 'country_id', 'Country': 'country_name'}).set_index('country_id')\n",
    "table_country"
   ]
  },
  {
   "cell_type": "code",
   "execution_count": null,
   "metadata": {},
   "outputs": [],
   "source": [
    "with engine.connect() as conn:\n",
    "    table_country.to_sql(name='country', con=conn, schema='football', if_exists='replace', chunksize=50, method='multi',\n",
    "                          index_label= 'country_id', dtype={'country_id': Integer(), 'country_name': VARCHAR(15)})\n"
   ]
  },
  {
   "attachments": {},
   "cell_type": "markdown",
   "metadata": {},
   "source": [
    "CREATE TABLE League ⚽️"
   ]
  },
  {
   "cell_type": "code",
   "execution_count": null,
   "metadata": {},
   "outputs": [],
   "source": [
    "table_league = df_club.loc[:, ['League', 'CountryID']].drop_duplicates().assign(league_id=range(1, 6)).set_index('league_id')\n",
    "table_league = table_league.rename(columns={'League': 'league_name', 'CountryID': 'country_id'})\n",
    "table_league"
   ]
  },
  {
   "cell_type": "code",
   "execution_count": null,
   "metadata": {},
   "outputs": [],
   "source": [
    "query_league = text(\"\"\"\n",
    "CREATE TABLE league (\n",
    "league_id INT NOT NULL AUTO_INCREMENT,\n",
    "league_name VARCHAR(30) NOT NULL,\n",
    "country_id INT NOT NULL,\n",
    "PRIMARY KEY (league_id),\n",
    "FOREIGN KEY (country_id) REFERENCES country(country_id)\n",
    ");\"\"\")"
   ]
  },
  {
   "cell_type": "code",
   "execution_count": null,
   "metadata": {},
   "outputs": [],
   "source": [
    "with engine.connect() as conn:\n",
    "    conn.execute(text('USE football;'))\n",
    "    conn.execute(query_league)"
   ]
  },
  {
   "cell_type": "code",
   "execution_count": null,
   "metadata": {},
   "outputs": [],
   "source": [
    "with engine.connect() as conn:\n",
    "    table_league.to_sql(name='league', con=conn, schema='football', if_exists='append', chunksize=50, method='multi')"
   ]
  },
  {
   "attachments": {},
   "cell_type": "markdown",
   "metadata": {},
   "source": [
    "CREATE TABLE Club ⚽️"
   ]
  },
  {
   "cell_type": "code",
   "execution_count": null,
   "metadata": {},
   "outputs": [],
   "source": [
    "table_club = df_club.loc[:, ['ClubID', 'Club', 'Stadium', 'StadiumCap']].drop_duplicates()\n",
    "table_club = table_club.rename(columns={'ClubID': 'club_id', 'Club': 'club_name', 'Stadium': 'stadium_name', 'StadiumCap': 'stadium_capacity'}).set_index('club_id')\n",
    "table_club.head(3)"
   ]
  },
  {
   "cell_type": "code",
   "execution_count": null,
   "metadata": {},
   "outputs": [],
   "source": [
    "with engine.connect() as conn:\n",
    "    table_club.to_sql(name='club', con=conn, schema='football', if_exists='replace', chunksize=50, method='multi',\n",
    "                          index_label= 'club_id', dtype={'club_id': Integer(), 'club_name': VARCHAR(30), \n",
    "                                                         'stadium_name': VARCHAR(30), 'stadium_capacity': VARCHAR(20)})\n"
   ]
  },
  {
   "attachments": {},
   "cell_type": "markdown",
   "metadata": {},
   "source": [
    "CREATE TABLE Season ⚽️"
   ]
  },
  {
   "cell_type": "code",
   "execution_count": null,
   "metadata": {},
   "outputs": [],
   "source": [
    "table_season = df_club.loc[:, ['Season']].drop_duplicates()\n",
    "table_season = table_season.assign(season_id=range(1, len(table_season) + 1)).set_index('season_id').rename(columns={'Season': 'year'})\n",
    "table_season"
   ]
  },
  {
   "cell_type": "code",
   "execution_count": null,
   "metadata": {},
   "outputs": [],
   "source": [
    "with engine.connect() as conn:\n",
    "    table_season.to_sql(name='season', con=conn, schema='football', if_exists='replace', chunksize=50, method='multi',\n",
    "                          index_label= 'season_id', dtype={'season_id': Integer(), 'year': Integer()})\n"
   ]
  },
  {
   "attachments": {},
   "cell_type": "markdown",
   "metadata": {},
   "source": [
    "CREATE TABLE Season_info ⚽️"
   ]
  },
  {
   "cell_type": "code",
   "execution_count": null,
   "metadata": {},
   "outputs": [],
   "source": [
    "query_season_info = text(\"\"\"\n",
    "CREATE TABLE season_info (\n",
    "season_info_id INT NOT NULL AUTO_INCREMENT,\n",
    "season_id INT NOT NULL,\n",
    "league_id INT NOT NULL,\n",
    "club_id INT NOT NULL,\n",
    "club_rank INT,\n",
    "squad INT,\n",
    "avg_age FLOAT,\n",
    "foreign_players INT,\n",
    "avg_marketValue VARCHAR(12),\n",
    "total_marketValue VARCHAR(12),\n",
    "income VARCHAR(12),\n",
    "overbalance VARCHAR(12),\n",
    "expenditure VARCHAR(12),\n",
    "PRIMARY KEY (season_info_id),\n",
    "FOREIGN KEY (season_id) REFERENCES season(season_id),\n",
    "FOREIGN KEY (league_id) REFERENCES league(league_id),\n",
    "FOREIGN KEY (club_id) REFERENCES club(club_id)\n",
    ");\"\"\")"
   ]
  },
  {
   "cell_type": "code",
   "execution_count": null,
   "metadata": {},
   "outputs": [],
   "source": [
    "# with engine.connect() as conn:\n",
    "#     conn.execute(text('USE football;'))\n",
    "#     conn.execute(query_season_info)"
   ]
  },
  {
   "cell_type": "code",
   "execution_count": null,
   "metadata": {},
   "outputs": [],
   "source": [
    "# league_dict = dict(zip(table_league['league_name'], table_league.index))\n",
    "# league_dict"
   ]
  },
  {
   "cell_type": "code",
   "execution_count": null,
   "metadata": {},
   "outputs": [],
   "source": [
    "# table_season_info.head(1)"
   ]
  },
  {
   "cell_type": "code",
   "execution_count": null,
   "metadata": {},
   "outputs": [],
   "source": [
    "# table_season_info = df_club.loc[:, ['Season', 'League', 'Club', 'ClubID', 'Squad', \n",
    "#                                     'avgAge', 'Foreigners', 'avgMarketValue', 'totalMarketValue', \n",
    "#                                     'Club_income', 'Club_expenditure', 'Club_OverallBalance']]\n",
    "                                    \n",
    "# table_season_info = table_season_info.merge(df_club_table_league, on=['League', 'Season', 'Club'], how='left')\n",
    "# table_season_info['League'] = table_season_info['League'].map(league_dict)\n",
    "# table_season_info"
   ]
  },
  {
   "cell_type": "code",
   "execution_count": null,
   "metadata": {},
   "outputs": [],
   "source": [
    "# with engine.connect() as conn:\n",
    "#     table_season.to_sql(name='season', con=conn, schema='football', if_exists='append', chunksize=50, method='multi')"
   ]
  },
  {
   "attachments": {},
   "cell_type": "markdown",
   "metadata": {},
   "source": [
    "CREATE TABLE Coach ⚽️"
   ]
  },
  {
   "cell_type": "code",
   "execution_count": null,
   "metadata": {},
   "outputs": [],
   "source": [
    "# mohammad"
   ]
  },
  {
   "attachments": {},
   "cell_type": "markdown",
   "metadata": {},
   "source": [
    "CREATE TABLE Coach_Season_info ⚽️"
   ]
  },
  {
   "cell_type": "code",
   "execution_count": null,
   "metadata": {},
   "outputs": [],
   "source": [
    "# mohammad"
   ]
  },
  {
   "attachments": {},
   "cell_type": "markdown",
   "metadata": {},
   "source": [
    "CREATE TABLE Victories ⚽️"
   ]
  },
  {
   "cell_type": "code",
   "execution_count": null,
   "metadata": {},
   "outputs": [],
   "source": [
    "# mohammad"
   ]
  },
  {
   "attachments": {},
   "cell_type": "markdown",
   "metadata": {},
   "source": [
    "CREATE TABLE Victories_Season_info ⚽️"
   ]
  },
  {
   "cell_type": "code",
   "execution_count": null,
   "metadata": {},
   "outputs": [],
   "source": [
    "# mohammad"
   ]
  },
  {
   "attachments": {},
   "cell_type": "markdown",
   "metadata": {},
   "source": [
    "CREATE TABLE Positions ⚽️"
   ]
  },
  {
   "cell_type": "code",
   "execution_count": null,
   "metadata": {},
   "outputs": [],
   "source": [
    "# Ali"
   ]
  },
  {
   "attachments": {},
   "cell_type": "markdown",
   "metadata": {},
   "source": [
    "CREATE TABLE Players ⚽️"
   ]
  },
  {
   "cell_type": "code",
   "execution_count": null,
   "metadata": {},
   "outputs": [],
   "source": [
    "# Milad"
   ]
  },
  {
   "attachments": {},
   "cell_type": "markdown",
   "metadata": {},
   "source": [
    "CREATE TABLE Players_Season_info ⚽️"
   ]
  },
  {
   "cell_type": "code",
   "execution_count": null,
   "metadata": {},
   "outputs": [],
   "source": [
    "df_"
   ]
  },
  {
   "attachments": {},
   "cell_type": "markdown",
   "metadata": {},
   "source": [
    "CREATE TABLE Outfitters ⚽️"
   ]
  },
  {
   "cell_type": "code",
   "execution_count": null,
   "metadata": {},
   "outputs": [],
   "source": [
    "# milad"
   ]
  },
  {
   "attachments": {},
   "cell_type": "markdown",
   "metadata": {},
   "source": [
    "CREATE TABLE Player_info ⚽️"
   ]
  },
  {
   "cell_type": "code",
   "execution_count": null,
   "metadata": {},
   "outputs": [],
   "source": [
    "# zahra"
   ]
  },
  {
   "attachments": {},
   "cell_type": "markdown",
   "metadata": {},
   "source": [
    "CREATE TABLE Outfitter_Player_info ⚽️"
   ]
  },
  {
   "cell_type": "code",
   "execution_count": null,
   "metadata": {},
   "outputs": [],
   "source": [
    "# Zhara"
   ]
  },
  {
   "attachments": {},
   "cell_type": "markdown",
   "metadata": {},
   "source": [
    "CREATE TABLE Stats ⚽️"
   ]
  },
  {
   "cell_type": "code",
   "execution_count": null,
   "metadata": {},
   "outputs": [],
   "source": [
    "# Zahra"
   ]
  },
  {
   "attachments": {},
   "cell_type": "markdown",
   "metadata": {},
   "source": [
    "CREATE TABLE Transfer ⚽️"
   ]
  },
  {
   "cell_type": "code",
   "execution_count": null,
   "metadata": {},
   "outputs": [],
   "source": [
    "# milad"
   ]
  }
 ],
 "metadata": {
  "kernelspec": {
   "display_name": "Python 3",
   "language": "python",
   "name": "python3"
  },
  "language_info": {
   "codemirror_mode": {
    "name": "ipython",
    "version": 3
   },
   "file_extension": ".py",
   "mimetype": "text/x-python",
   "name": "python",
   "nbconvert_exporter": "python",
   "pygments_lexer": "ipython3",
   "version": "3.11.3"
  },
  "orig_nbformat": 4
 },
 "nbformat": 4,
 "nbformat_minor": 2
}
